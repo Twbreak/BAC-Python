{
 "cells": [
  {
   "metadata": {},
   "cell_type": "markdown",
   "source": [
    "### Python基本物件\n",
    "這章節將進一步解釋以下四者\n",
    "- list : [ ]\n",
    "- tuple : ( )\n",
    "- set : { }\n",
    "- dict : { }"
   ],
   "id": "249a3b2bbe3e97a9"
  },
  {
   "cell_type": "code",
   "id": "initial_id",
   "metadata": {
    "collapsed": true,
    "ExecuteTime": {
     "end_time": "2024-11-10T08:35:00.474950Z",
     "start_time": "2024-11-10T08:35:00.458538Z"
    }
   },
   "source": [
    "#開始前記得先run這個cell\n",
    "# -*- coding: utf-8 -*-\n",
    "from platform import python_version\n",
    "\n",
    "print(\"Python version: {}\".format(python_version()))\n",
    "%autosave 120"
   ],
   "outputs": [
    {
     "name": "stdout",
     "output_type": "stream",
     "text": [
      "Python version: 3.9.5\n"
     ]
    },
    {
     "data": {
      "application/javascript": "IPython.notebook.set_autosave_interval(120000)"
     },
     "metadata": {},
     "output_type": "display_data"
    },
    {
     "name": "stdout",
     "output_type": "stream",
     "text": [
      "Autosaving every 120 seconds\n"
     ]
    }
   ],
   "execution_count": 1
  },
  {
   "metadata": {},
   "cell_type": "markdown",
   "source": "",
   "id": "8b361fd2b7b8ecec"
  }
 ],
 "metadata": {
  "kernelspec": {
   "display_name": "Python 3",
   "language": "python",
   "name": "python3"
  },
  "language_info": {
   "codemirror_mode": {
    "name": "ipython",
    "version": 2
   },
   "file_extension": ".py",
   "mimetype": "text/x-python",
   "name": "python",
   "nbconvert_exporter": "python",
   "pygments_lexer": "ipython2",
   "version": "2.7.6"
  }
 },
 "nbformat": 4,
 "nbformat_minor": 5
}
