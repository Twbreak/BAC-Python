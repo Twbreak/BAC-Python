{
 "cells": [
  {
   "metadata": {},
   "cell_type": "markdown",
   "source": [
    "## Python基礎認識\n",
    "此章節會讓你初步了解Python的基本語法"
   ],
   "id": "caf83ec5d4eb44b"
  },
  {
   "cell_type": "code",
   "id": "initial_id",
   "metadata": {
    "collapsed": true,
    "ExecuteTime": {
     "end_time": "2024-11-17T11:21:59.956717Z",
     "start_time": "2024-11-17T11:21:59.938688Z"
    }
   },
   "source": [
    "# -*- coding: utf-8 -*-\n",
    "from platform import python_version\n",
    "\n",
    "print(\"Python version: {}\".format(python_version()))\n",
    "%autosave 120"
   ],
   "outputs": [
    {
     "name": "stdout",
     "output_type": "stream",
     "text": [
      "Python version: 3.9.13\n"
     ]
    },
    {
     "data": {
      "application/javascript": "IPython.notebook.set_autosave_interval(120000)"
     },
     "metadata": {},
     "output_type": "display_data"
    },
    {
     "name": "stdout",
     "output_type": "stream",
     "text": [
      "Autosaving every 120 seconds\n"
     ]
    }
   ],
   "execution_count": 32
  },
  {
   "metadata": {},
   "cell_type": "markdown",
   "source": [
    "### 認識變數\n",
    "在Python中利用等於符號(=)為變數賦值<br>\n",
    "當我們要宣告變數會是字串(String)時，我們會字元放進「單引號」或「雙引號」中(''或\"\")<br>\n",
    "那如果要宣告的是數值的話，就直接的把數字放在等號後面即可<br>\n",
    "我們可以先宣告三個變數分別是名稱、體重和身高為例<br>\n",
    "\n"
   ],
   "id": "7702d6f212f05aad"
  },
  {
   "metadata": {
    "ExecuteTime": {
     "end_time": "2024-11-17T11:22:00.251462Z",
     "start_time": "2024-11-17T11:22:00.241955Z"
    }
   },
   "cell_type": "code",
   "source": [
    "name = 'Jack'\n",
    "kilogram = 60\n",
    "height = 1.75"
   ],
   "id": "2c0c7eb26cb53680",
   "outputs": [],
   "execution_count": 33
  },
  {
   "metadata": {},
   "cell_type": "markdown",
   "source": [
    "##### 多重給值與多元給值\n",
    "- 多元給值可以將多個變數賦予同一個值<br>\n",
    "- 多元給值可以在一行內將每個變數賦予不同的值\n"
   ],
   "id": "c32fd50d542ddc6f"
  },
  {
   "metadata": {
    "ExecuteTime": {
     "end_time": "2024-11-17T11:22:00.312798Z",
     "start_time": "2024-11-17T11:22:00.306288Z"
    }
   },
   "cell_type": "code",
   "source": [
    "kilogram_0 = kilogram_1 = kilogram_2 = 60\n",
    "height_0, height_1, height_2 = 1.6, 1.78, 1.85"
   ],
   "id": "20b742f786ee941b",
   "outputs": [],
   "execution_count": 34
  },
  {
   "metadata": {},
   "cell_type": "markdown",
   "source": [
    "##### 變數的邏輯\n",
    "1. 宣告變數<br>\n",
    "當你寫 a = 10，就是把 10 這個數字放進 a 這個盒子裡<br>\n",
    "2. 複製值<br>\n",
    "當你寫 b = a，就是把 a 裡面的數字（10）複製一份，放到 b 這個盒子裡。現在 a 和 b 都有自己的盒子，各自裝著一個 10<br>\n",
    "3. 改變 a 的值<br>\n",
    "當你寫 a = 20，只是把 a 盒子裡的東西換成 20，但是 b 的盒子還是原本的 10，因為 b 和 a 沒有連在一起<br>\n",
    "4. 印出結果<br>\n",
    "print(a)：你打開a的盒子，裡面是20<br>\n",
    "print(b)：你打開b的盒子，裡面還是原來的10<br>\n",
    "- 改變一個變數的值不會影響到其他複製它的變數，因為它們各自有自己的空間存放自己的值\n"
   ],
   "id": "82f88d8624536674"
  },
  {
   "metadata": {
    "ExecuteTime": {
     "end_time": "2024-11-17T11:22:00.344881Z",
     "start_time": "2024-11-17T11:22:00.330351Z"
    }
   },
   "cell_type": "code",
   "source": [
    "a = 10\n",
    "b = a\n",
    "a = 20\n",
    "print(a)\n",
    "print(b)"
   ],
   "id": "1854adbdb27b7723",
   "outputs": [
    {
     "name": "stdout",
     "output_type": "stream",
     "text": [
      "20\n",
      "10\n"
     ]
    }
   ],
   "execution_count": 35
  },
  {
   "metadata": {},
   "cell_type": "markdown",
   "source": [
    "##### 變數的命名原則\n",
    "- 必須是英文\n",
    "- 開頭不能是數字或特殊字元\n",
    "- 盡量取名能讓你一眼就知道這變數代表的是什麼\n",
    "- 如果一個字不夠你描述，那字與字之間的空格可以用底線或大寫來取代\n",
    "  - 底線：first_name\n",
    "  - 大寫：lastName"
   ],
   "id": "bd22a6d7ca403d72"
  },
  {
   "metadata": {},
   "cell_type": "markdown",
   "source": [
    "### 資料型態\n",
    "1. 數值型態：int, float, boolean\n",
    "2. 字串型態：str\n",
    "3. 容器型態：list, dict, tuple, set (下個章節再詳述)"
   ],
   "id": "bf2516bfd1e77773"
  },
  {
   "metadata": {},
   "cell_type": "markdown",
   "source": [
    "##### 數值型態\n",
    "- int (整數)：像 10、-5、0，不帶小數點的數字\n",
    "- float (浮點數)：像 3.14、-0.5，帶小數點的數字\n",
    "- boolean (布林值)：只有兩個值，True 或 False，用來表示對或錯"
   ],
   "id": "3c8c632fd6f76803"
  },
  {
   "metadata": {
    "ExecuteTime": {
     "end_time": "2024-11-17T11:22:00.390945Z",
     "start_time": "2024-11-17T11:22:00.376891Z"
    }
   },
   "cell_type": "code",
   "source": [
    "x = 1  #int\n",
    "y = 3.14 #float\n",
    "z = True #boolean"
   ],
   "id": "ef763f2f70e99de7",
   "outputs": [],
   "execution_count": 36
  },
  {
   "metadata": {},
   "cell_type": "markdown",
   "source": [
    "##### 字串型態\n",
    "- 用來表示文字的資料，像名字、地址、描述等。字串通常用引號括起來：單引號 ' 或雙引號 \" 都可以"
   ],
   "id": "c6f3e01bcf4c8d78"
  },
  {
   "metadata": {
    "ExecuteTime": {
     "end_time": "2024-11-17T11:22:00.452715Z",
     "start_time": "2024-11-17T11:22:00.438697Z"
    }
   },
   "cell_type": "code",
   "source": "college = 'SCU' ",
   "id": "b9b05d502b369711",
   "outputs": [],
   "execution_count": 37
  },
  {
   "metadata": {},
   "cell_type": "markdown",
   "source": [
    "##### 容器型態\n",
    "- list \n",
    "    - 可以存放多個資料且資料之間有順序還可以重複\n",
    "- dict \n",
    "    - 就如同現實中的字典一樣，有key和value的來做搭配\n",
    "- tuple \n",
    "    - 跟列表很像，但一旦定義後內容不能修改，適合用來存放固定的資料組合。\n",
    "- set \n",
    "    - 跟數學的集合一樣，存放不重複的資料，且沒有順序。"
   ],
   "id": "9a58ac988579a4c9"
  },
  {
   "metadata": {
    "ExecuteTime": {
     "end_time": "2024-11-17T11:22:00.483027Z",
     "start_time": "2024-11-17T11:22:00.468458Z"
    }
   },
   "cell_type": "code",
   "source": [
    "list_A = [1, 2, 3] #list\n",
    "list_B = [4, 'yellow', True] #混合型態的列表\n",
    "\n",
    "dict_A = {\"Name\": \"Alice\", \"Age\": 25, \"是否為學生\": True} #dict， {'key': 'value'}\n",
    "\n",
    "tuple_A = (10,20) #tuple，例如可以表示一個座標\n",
    "\n",
    "set_A = {1, 2, 3} #set\n"
   ],
   "id": "a8d86cc87eba1910",
   "outputs": [],
   "execution_count": 38
  },
  {
   "metadata": {},
   "cell_type": "markdown",
   "source": [
    "#### 基本的算術運算子\n",
    "可以在Python上進行基礎的數學計算\n"
   ],
   "id": "bdc8cedbae2f098f"
  },
  {
   "metadata": {},
   "cell_type": "markdown",
   "source": [
    "##### 加法與減法\n",
    "- 加法\n",
    "    - 數字相加\n",
    "    - 字串拼接  \n",
    "- 減法"
   ],
   "id": "6d7c65ad19df9119"
  },
  {
   "metadata": {
    "ExecuteTime": {
     "end_time": "2024-11-17T11:22:00.513955Z",
     "start_time": "2024-11-17T11:22:00.499085Z"
    }
   },
   "cell_type": "code",
   "source": [
    "print(1+1)\n",
    "first_name = 'John'\n",
    "last_name = 'Doe'\n",
    "print(first_name + ' ' + last_name)\n",
    "\n",
    "print(50-24)"
   ],
   "id": "b63d572bacf04735",
   "outputs": [
    {
     "name": "stdout",
     "output_type": "stream",
     "text": [
      "2\n",
      "John Doe\n",
      "26\n"
     ]
    }
   ],
   "execution_count": 39
  },
  {
   "metadata": {},
   "cell_type": "markdown",
   "source": [
    "##### 乘法\n",
    "- 基礎乘法\n",
    "- 次方"
   ],
   "id": "7a0174d814fc70f2"
  },
  {
   "metadata": {
    "ExecuteTime": {
     "end_time": "2024-11-17T11:22:00.575486Z",
     "start_time": "2024-11-17T11:22:00.561460Z"
    }
   },
   "cell_type": "code",
   "source": [
    "print(10*5)\n",
    "print(2**3)"
   ],
   "id": "7249a6c3b9d2667b",
   "outputs": [
    {
     "name": "stdout",
     "output_type": "stream",
     "text": [
      "50\n",
      "8\n"
     ]
    }
   ],
   "execution_count": 40
  },
  {
   "metadata": {},
   "cell_type": "markdown",
   "source": [
    "##### 除法\n",
    "- 基本除法\n",
    "- 除法取整數\n",
    "- 餘數"
   ],
   "id": "ce6450ab09114291"
  },
  {
   "metadata": {
    "ExecuteTime": {
     "end_time": "2024-11-17T11:22:00.606675Z",
     "start_time": "2024-11-17T11:22:00.593167Z"
    }
   },
   "cell_type": "code",
   "source": [
    "print(20/3)\n",
    "print(20//3)\n",
    "print(20%3)"
   ],
   "id": "f1f65b31483633c8",
   "outputs": [
    {
     "name": "stdout",
     "output_type": "stream",
     "text": [
      "6.666666666666667\n",
      "6\n",
      "2\n"
     ]
    }
   ],
   "execution_count": 41
  },
  {
   "metadata": {},
   "cell_type": "markdown",
   "source": [
    "#### in-place 指派運算子\n",
    "In-place 指派運算子是將「運算」和「指派」合併在一起的簡化寫法，能提升程式的簡潔性，適合在需要對同一變數反覆運算時使用"
   ],
   "id": "3402f6d9f94e1fb1"
  },
  {
   "metadata": {},
   "cell_type": "markdown",
   "source": [
    "##### 加法指派 (+=)\n",
    "將變數本身的值與新值相加後再更新變數<br>\n",
    "x的版本是基礎的寫法<br>\n",
    "y的版本就是簡化的版本"
   ],
   "id": "17175c118547c175"
  },
  {
   "metadata": {
    "ExecuteTime": {
     "end_time": "2024-11-17T11:22:00.652943Z",
     "start_time": "2024-11-17T11:22:00.638226Z"
    }
   },
   "cell_type": "code",
   "source": [
    "x = 100\n",
    "x = x + 20\n",
    "print(x)"
   ],
   "id": "e51a512455632515",
   "outputs": [
    {
     "name": "stdout",
     "output_type": "stream",
     "text": [
      "120\n"
     ]
    }
   ],
   "execution_count": 42
  },
  {
   "metadata": {
    "ExecuteTime": {
     "end_time": "2024-11-17T11:22:00.713684Z",
     "start_time": "2024-11-17T11:22:00.699638Z"
    }
   },
   "cell_type": "code",
   "source": [
    "y = 100\n",
    "y += 20         # 如同 x = x + 20\n",
    "print(y)"
   ],
   "id": "930708eb8d45f26b",
   "outputs": [
    {
     "name": "stdout",
     "output_type": "stream",
     "text": [
      "120\n"
     ]
    }
   ],
   "execution_count": 43
  },
  {
   "metadata": {},
   "cell_type": "markdown",
   "source": "##### 減法指派 (-=)",
   "id": "2a9c1a92c234a8a3"
  },
  {
   "metadata": {
    "ExecuteTime": {
     "end_time": "2024-11-17T11:22:00.759741Z",
     "start_time": "2024-11-17T11:22:00.746030Z"
    }
   },
   "cell_type": "code",
   "source": [
    "x = 10\n",
    "x -= 4  # 等同於 x = x - 4\n",
    "print(x) "
   ],
   "id": "13457e2ad82e5849",
   "outputs": [
    {
     "name": "stdout",
     "output_type": "stream",
     "text": [
      "6\n"
     ]
    }
   ],
   "execution_count": 44
  },
  {
   "metadata": {},
   "cell_type": "markdown",
   "source": [
    "##### 乘法指派\n",
    "- 基礎乘法\n",
    "- 次方"
   ],
   "id": "958177f91fac065a"
  },
  {
   "metadata": {
    "ExecuteTime": {
     "end_time": "2024-11-17T11:22:00.822208Z",
     "start_time": "2024-11-17T11:22:00.807729Z"
    }
   },
   "cell_type": "code",
   "source": [
    "x = 3\n",
    "x *= 4  # 等同於 x = x * 4\n",
    "print(x) \n",
    "\n",
    "y = 2\n",
    "y **= 3  # 等同於 y = y ** 3\n",
    "print(y) "
   ],
   "id": "a4d80dab473ac1a9",
   "outputs": [
    {
     "name": "stdout",
     "output_type": "stream",
     "text": [
      "12\n",
      "8\n"
     ]
    }
   ],
   "execution_count": 45
  },
  {
   "metadata": {},
   "cell_type": "markdown",
   "source": [
    "##### 除法指派\n",
    "- 基礎除法\n",
    "- 除法取整數\n",
    "- 餘數 "
   ],
   "id": "80a085744a8de19f"
  },
  {
   "metadata": {
    "ExecuteTime": {
     "end_time": "2024-11-17T11:22:00.853028Z",
     "start_time": "2024-11-17T11:22:00.839728Z"
    }
   },
   "cell_type": "code",
   "source": [
    "x = 8\n",
    "x /= 2  # 等同於 x = x / 2\n",
    "print(x)  \n",
    "\n",
    "y = 15\n",
    "y //= 2  # 等同於 y = y // 2\n",
    "print(y)  \n",
    "\n",
    "z = 9\n",
    "z %= 2 # 等同於 z = z % 2\n",
    "print(z)\n"
   ],
   "id": "cda3782b186235b9",
   "outputs": [
    {
     "name": "stdout",
     "output_type": "stream",
     "text": [
      "4.0\n",
      "7\n",
      "1\n"
     ]
    }
   ],
   "execution_count": 46
  },
  {
   "metadata": {},
   "cell_type": "markdown",
   "source": [
    "#### 比較運算子\n",
    "比較運算子用來比較兩個值，並返回布林值 (True 或 False)，常用於判斷條件<br>\n",
    "| 運算子 | 說明 |\n",
    "| :----:| :----:|\n",
    "| == | 等於 |\n",
    "| != | 不等於 |\n",
    "| > | 大於 |\n",
    "| < | 小於 |\n",
    "| >= | 大於等於 |\n",
    "| <= | 小於等於 |\n",
    "\n"
   ],
   "id": "134ce6f305152eba"
  },
  {
   "metadata": {},
   "cell_type": "markdown",
   "source": [
    "##### 一般範例\n",
    "- 等於與不等於"
   ],
   "id": "2b27ef6d6d02865f"
  },
  {
   "metadata": {
    "ExecuteTime": {
     "end_time": "2024-11-17T11:22:00.900706Z",
     "start_time": "2024-11-17T11:22:00.887165Z"
    }
   },
   "cell_type": "code",
   "source": [
    "x, y= 10, 20\n",
    "print(x == y)  \n",
    "print(x != y)  "
   ],
   "id": "bbf2718ca8db4fc5",
   "outputs": [
    {
     "name": "stdout",
     "output_type": "stream",
     "text": [
      "False\n",
      "True\n"
     ]
    }
   ],
   "execution_count": 47
  },
  {
   "metadata": {},
   "cell_type": "markdown",
   "source": "- 大於與小於",
   "id": "cbbc376c181c8656"
  },
  {
   "metadata": {
    "ExecuteTime": {
     "end_time": "2024-11-17T11:22:00.948071Z",
     "start_time": "2024-11-17T11:22:00.933013Z"
    }
   },
   "cell_type": "code",
   "source": [
    "x, y= 10, 20\n",
    "print(x > y)   \n",
    "print(x < y)   "
   ],
   "id": "b75a8fdce7b8af47",
   "outputs": [
    {
     "name": "stdout",
     "output_type": "stream",
     "text": [
      "False\n",
      "True\n"
     ]
    }
   ],
   "execution_count": 48
  },
  {
   "metadata": {},
   "cell_type": "markdown",
   "source": "- 大於等於與小於等於",
   "id": "cc30f0ebee001324"
  },
  {
   "metadata": {
    "ExecuteTime": {
     "end_time": "2024-11-17T11:22:01.009972Z",
     "start_time": "2024-11-17T11:22:00.995776Z"
    }
   },
   "cell_type": "code",
   "source": [
    "x, y, z = 10, 20, 10\n",
    "print(x >= z)  \n",
    "print(y <= z)  "
   ],
   "id": "3ed45273eff60bb6",
   "outputs": [
    {
     "name": "stdout",
     "output_type": "stream",
     "text": [
      "True\n",
      "False\n"
     ]
    }
   ],
   "execution_count": 49
  },
  {
   "metadata": {},
   "cell_type": "markdown",
   "source": [
    "##### 需注意的細節\n",
    "1. =與==的區別\n",
    "2. 比較時需要注意數據的資料型態"
   ],
   "id": "15b5019666c39244"
  },
  {
   "metadata": {
    "ExecuteTime": {
     "end_time": "2024-11-17T11:22:01.042076Z",
     "start_time": "2024-11-17T11:22:01.032027Z"
    }
   },
   "cell_type": "code",
   "source": [
    "seconds = 10 #賦值\n",
    "print(seconds == 10) #這是在做比較"
   ],
   "id": "81a17e57907bff2e",
   "outputs": [
    {
     "name": "stdout",
     "output_type": "stream",
     "text": [
      "True\n"
     ]
    }
   ],
   "execution_count": 50
  },
  {
   "metadata": {
    "ExecuteTime": {
     "end_time": "2024-11-17T11:22:01.072692Z",
     "start_time": "2024-11-17T11:22:01.058589Z"
    }
   },
   "cell_type": "code",
   "source": "print(10 == '10')",
   "id": "7f795c2021af7dba",
   "outputs": [
    {
     "name": "stdout",
     "output_type": "stream",
     "text": [
      "False\n"
     ]
    }
   ],
   "execution_count": 51
  },
  {
   "metadata": {},
   "cell_type": "markdown",
   "source": [
    "#### 邏輯運算子\n",
    "\n",
    "| 運算子 |     解釋     | 範例 |  結果   |\n",
    "| :----: |:----------:| :----: |:-----:|\n",
    "| and | 所有條件為真時為真  | (TRUE and TRUE) | TRUE  |\n",
    "| or | 任一條件為真即為真 | (TRUE or FALSE) | TRUE |\n",
    "| not | 結果會與運算元(operand)相反 | not TRUE | FALSE |"
   ],
   "id": "5c2b35b8af4c5183"
  },
  {
   "metadata": {},
   "cell_type": "markdown",
   "source": [
    "##### and的範例\n",
    "只有兩個條件都為真，結果才是 True<br>\n",
    "範例: 當年紀大於18歲且收入大於20000元時會符合申請資格"
   ],
   "id": "319c9283cdd6d7d7"
  },
  {
   "metadata": {
    "ExecuteTime": {
     "end_time": "2024-11-17T11:22:01.103870Z",
     "start_time": "2024-11-17T11:22:01.092749Z"
    }
   },
   "cell_type": "code",
   "source": [
    "age = 25\n",
    "income = 30000\n",
    "if age > 18 and income > 20000:\n",
    "    print(\"符合申請資格\")\n",
    "else:\n",
    "    print(\"不符合申請資格\")"
   ],
   "id": "741164ab4f8613d2",
   "outputs": [
    {
     "name": "stdout",
     "output_type": "stream",
     "text": [
      "符合申請資格\n"
     ]
    }
   ],
   "execution_count": 52
  },
  {
   "metadata": {},
   "cell_type": "markdown",
   "source": [
    "##### or的範例\n",
    "只要有一個條件為真，結果就是 True<br>\n",
    "範例: 當有學生資格或是有工作的，那就享有優惠"
   ],
   "id": "380debc26896d452"
  },
  {
   "metadata": {
    "ExecuteTime": {
     "end_time": "2024-11-17T11:22:01.150634Z",
     "start_time": "2024-11-17T11:22:01.134612Z"
    }
   },
   "cell_type": "code",
   "source": [
    "is_student = True\n",
    "is_employed = False\n",
    "if is_student or is_employed:\n",
    "    print(\"有資格享受優惠\")\n",
    "else:\n",
    "    print(\"無資格享受優惠\")"
   ],
   "id": "9400fbfd7cf6ed03",
   "outputs": [
    {
     "name": "stdout",
     "output_type": "stream",
     "text": [
      "有資格享受優惠\n"
     ]
    }
   ],
   "execution_count": 53
  },
  {
   "metadata": {},
   "cell_type": "markdown",
   "source": [
    "##### not的範例\n",
    "範例: 是否會下雨，如果不下雨就外出，如果下雨就不出門 "
   ],
   "id": "d218f49c301db48d"
  },
  {
   "metadata": {
    "ExecuteTime": {
     "end_time": "2024-11-17T11:22:01.197652Z",
     "start_time": "2024-11-17T11:22:01.181138Z"
    }
   },
   "cell_type": "code",
   "source": [
    "is_raining = False\n",
    "if not is_raining:\n",
    "    print(\"今天適合外出\")\n",
    "else:\n",
    "    print(\"今天不出門\")"
   ],
   "id": "a446d554e4fceba2",
   "outputs": [
    {
     "name": "stdout",
     "output_type": "stream",
     "text": [
      "今天適合外出\n"
     ]
    }
   ],
   "execution_count": 54
  },
  {
   "metadata": {},
   "cell_type": "markdown",
   "source": [
    "#### 模組的屬性、方法\n",
    "- 模組就像現成的工具箱，裡面已經有很多工具可以使用；import 就是打開這個工具箱，把需要的工具拿出來用。\n",
    "- 模組的概念：模組是一些 Python 程式碼的集合，可能包括函數、類別、變數，甚至其他模組\n",
    "- Python 標準庫和外部模組提供了大量的功能，我們可以通過 import 導入模組，避免重複編寫相同的程式碼。"
   ],
   "id": "26067add887a0e2"
  },
  {
   "metadata": {},
   "cell_type": "markdown",
   "source": [
    "##### 基本使用方法\n",
    "1. 導入整個模組\n",
    "- 語法:<br> ``` import module_name ```"
   ],
   "id": "ac04e603a63b098f"
  },
  {
   "metadata": {
    "ExecuteTime": {
     "end_time": "2024-11-17T11:22:01.228774Z",
     "start_time": "2024-11-17T11:22:01.215268Z"
    }
   },
   "cell_type": "code",
   "source": [
    "# 導入 time 模組\n",
    "import time\n",
    "\n",
    "# 使用 time 模組的方法來獲取當前時間戳\n",
    "current_time = time.ctime()\n",
    "print(\"當前時間戳:\", current_time)"
   ],
   "id": "875b92018c192d5f",
   "outputs": [
    {
     "name": "stdout",
     "output_type": "stream",
     "text": [
      "當前時間戳: Sun Nov 17 19:22:01 2024\n"
     ]
    }
   ],
   "execution_count": 55
  },
  {
   "metadata": {},
   "cell_type": "markdown",
   "source": [
    "2. 使用模組別名\n",
    "- 語法:<br> ``` import module_name as name ```"
   ],
   "id": "e6a52636286248a3"
  },
  {
   "metadata": {
    "ExecuteTime": {
     "end_time": "2024-11-17T11:22:01.259958Z",
     "start_time": "2024-11-17T11:22:01.252958Z"
    }
   },
   "cell_type": "code",
   "source": [
    "# 為模組取別名\n",
    "import time as t\n",
    "\n",
    "# 使用別名調用方法\n",
    "print(\"格式化時間:\", t.ctime())"
   ],
   "id": "9c1016b90d6ff35a",
   "outputs": [
    {
     "name": "stdout",
     "output_type": "stream",
     "text": [
      "格式化時間: Sun Nov 17 19:22:01 2024\n"
     ]
    }
   ],
   "execution_count": 56
  },
  {
   "metadata": {},
   "cell_type": "markdown",
   "source": [
    "3. 導入模組中的特定功能\n",
    "- 語法：<br> ``` from module_name import function_name ```"
   ],
   "id": "47bb05a81dd508e8"
  },
  {
   "metadata": {
    "ExecuteTime": {
     "end_time": "2024-11-17T11:22:02.801425Z",
     "start_time": "2024-11-17T11:22:01.283400Z"
    }
   },
   "cell_type": "code",
   "source": [
    "# 從 time 模組中只導入 sleep 方法\n",
    "from time import sleep\n",
    "\n",
    "print(\"1.5 秒後開始\")\n",
    "sleep(1.5)  # 暫停 1.5 秒\n",
    "print(\"程序繼續執行\")"
   ],
   "id": "9449b90840355f68",
   "outputs": [
    {
     "name": "stdout",
     "output_type": "stream",
     "text": [
      "1.5 秒後開始\n",
      "程序繼續執行\n"
     ]
    }
   ],
   "execution_count": 57
  },
  {
   "metadata": {},
   "cell_type": "markdown",
   "source": [
    "4. 導入特定功能並重命名\n",
    "- 語法：<br> ``` from module_name import function_name as name ```\n"
   ],
   "id": "74c51ed7db7cabc2"
  },
  {
   "metadata": {
    "ExecuteTime": {
     "end_time": "2024-11-17T11:22:04.840012Z",
     "start_time": "2024-11-17T11:22:02.818933Z"
    }
   },
   "cell_type": "code",
   "source": [
    "# 將 sleep 方法重命名\n",
    "from time import sleep as wait\n",
    "\n",
    "print(\"2 秒後繼續\")\n",
    "wait(2)  # 使用重命名的方法\n",
    "print(\"執行完成\")"
   ],
   "id": "8ba1a8e9fdff1c09",
   "outputs": [
    {
     "name": "stdout",
     "output_type": "stream",
     "text": [
      "2 秒後繼續\n",
      "執行完成\n"
     ]
    }
   ],
   "execution_count": 58
  },
  {
   "metadata": {},
   "cell_type": "markdown",
   "source": [
    "5. 導入模組中的所有功能\n",
    "- 語法：<br> ``` from module_name import * ```\n"
   ],
   "id": "14b61def422ca31e"
  },
  {
   "metadata": {
    "ExecuteTime": {
     "end_time": "2024-11-17T11:22:04.871072Z",
     "start_time": "2024-11-17T11:22:04.856533Z"
    }
   },
   "cell_type": "code",
   "source": [
    "from time import *\n",
    "\n",
    "# 直接使用模組中的所有功能\n",
    "print(\"當前時間戳:\", ctime())"
   ],
   "id": "82e04e72f028bce2",
   "outputs": [
    {
     "name": "stdout",
     "output_type": "stream",
     "text": [
      "當前時間戳: Sun Nov 17 19:22:04 2024\n"
     ]
    }
   ],
   "execution_count": 59
  },
  {
   "metadata": {},
   "cell_type": "markdown",
   "source": [
    "#### 常用特殊字元\n",
    "| 字元  |            說明             | \n",
    "|:---:|:-------------------------:|\n",
    "| \\\\\" |            雙引號            |\n",
    "| \\\\' |            單引號            |\n",
    "| \\n  |            換行             | \n",
    "| \\t  |            tab            |\n",
    "| \\r  |       return (歸位鍵)        |"
   ],
   "id": "4b733ac90bd16a92"
  },
  {
   "metadata": {
    "ExecuteTime": {
     "end_time": "2024-11-17T11:22:04.902609Z",
     "start_time": "2024-11-17T11:22:04.887588Z"
    }
   },
   "cell_type": "code",
   "source": [
    "quote = \"He said, \\\"Hi!\\\"\"\n",
    "print(quote)\n",
    "\n",
    "text = 'It\\'s raining.'\n",
    "print(text)"
   ],
   "id": "febdd40fb2a52d8",
   "outputs": [
    {
     "name": "stdout",
     "output_type": "stream",
     "text": [
      "He said, \"Hi!\"\n",
      "It's raining.\n"
     ]
    }
   ],
   "execution_count": 60
  },
  {
   "metadata": {
    "ExecuteTime": {
     "end_time": "2024-11-17T11:22:04.933637Z",
     "start_time": "2024-11-17T11:22:04.918856Z"
    }
   },
   "cell_type": "code",
   "source": "print(\"Hello\\nWorld!\")",
   "id": "eaeda58e8cb85875",
   "outputs": [
    {
     "name": "stdout",
     "output_type": "stream",
     "text": [
      "Hello\n",
      "World!\n"
     ]
    }
   ],
   "execution_count": 61
  },
  {
   "metadata": {
    "ExecuteTime": {
     "end_time": "2024-11-17T11:22:04.963935Z",
     "start_time": "2024-11-17T11:22:04.950862Z"
    }
   },
   "cell_type": "code",
   "source": "print(\"Name\\tAge\")",
   "id": "c6fd27745ef53fc",
   "outputs": [
    {
     "name": "stdout",
     "output_type": "stream",
     "text": [
      "Name\tAge\n"
     ]
    }
   ],
   "execution_count": 62
  }
 ],
 "metadata": {
  "kernelspec": {
   "display_name": "Python 3",
   "language": "python",
   "name": "python3"
  },
  "language_info": {
   "codemirror_mode": {
    "name": "ipython",
    "version": 2
   },
   "file_extension": ".py",
   "mimetype": "text/x-python",
   "name": "python",
   "nbconvert_exporter": "python",
   "pygments_lexer": "ipython2",
   "version": "2.7.6"
  }
 },
 "nbformat": 4,
 "nbformat_minor": 5
}
