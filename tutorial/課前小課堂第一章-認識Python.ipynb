{
 "cells": [
  {
   "metadata": {},
   "cell_type": "markdown",
   "source": [
    "## Python基礎認識\n",
    "此章節會讓你初步了解Python的基本語法"
   ],
   "id": "caf83ec5d4eb44b"
  },
  {
   "cell_type": "code",
   "id": "initial_id",
   "metadata": {
    "collapsed": true,
    "ExecuteTime": {
     "end_time": "2024-11-17T07:12:00.879738Z",
     "start_time": "2024-11-17T07:12:00.861773Z"
    }
   },
   "source": [
    "# -*- coding: utf-8 -*-\n",
    "from platform import python_version\n",
    "\n",
    "print(\"Python version: {}\".format(python_version()))\n",
    "%autosave 120"
   ],
   "outputs": [
    {
     "name": "stdout",
     "output_type": "stream",
     "text": [
      "Python version: 3.9.5\n"
     ]
    },
    {
     "data": {
      "application/javascript": "IPython.notebook.set_autosave_interval(120000)"
     },
     "metadata": {},
     "output_type": "display_data"
    },
    {
     "name": "stdout",
     "output_type": "stream",
     "text": [
      "Autosaving every 120 seconds\n"
     ]
    }
   ],
   "execution_count": 1
  },
  {
   "metadata": {},
   "cell_type": "markdown",
   "source": [
    "### 認識變數\n",
    "在Python中利用等於符號(=)為變數賦值<br>\n",
    "當我們要宣告變數會是字串(String)時，我們會字元放進「單引號」或「雙引號」中(''或\"\")<br>\n",
    "那如果要宣告的是數值的話，就直接的把數字放在等號後面即可<br>\n",
    "我們可以先宣告三個變數分別是名稱、體重和身高為例<br>\n",
    "\n"
   ],
   "id": "7702d6f212f05aad"
  },
  {
   "metadata": {
    "ExecuteTime": {
     "end_time": "2024-11-17T08:14:56.249276Z",
     "start_time": "2024-11-17T08:14:56.234838Z"
    }
   },
   "cell_type": "code",
   "source": [
    "name = 'Jack'\n",
    "kilogram = 60\n",
    "height = 1.75"
   ],
   "id": "2c0c7eb26cb53680",
   "outputs": [],
   "execution_count": 4
  },
  {
   "metadata": {},
   "cell_type": "markdown",
   "source": [
    "##### 多重給值與多元給值\n",
    "- 多元給值可以將多個變數賦予同一個值<br>\n",
    "- 多元給值可以在一行內將每個變數賦予不同的值\n"
   ],
   "id": "c32fd50d542ddc6f"
  },
  {
   "metadata": {
    "ExecuteTime": {
     "end_time": "2024-11-17T08:15:11.339975Z",
     "start_time": "2024-11-17T08:15:11.334391Z"
    }
   },
   "cell_type": "code",
   "source": [
    "kilogram_0 = kilogram_1 = kilogram_2 = 60\n",
    "height_0, height_1, height_2 = 1.6, 1.78, 1.85"
   ],
   "id": "20b742f786ee941b",
   "outputs": [],
   "execution_count": 7
  },
  {
   "metadata": {},
   "cell_type": "markdown",
   "source": [
    "##### 變數的邏輯\n",
    "1. 宣告變數<br>\n",
    "當你寫 a = 10，就是把 10 這個數字放進 a 這個盒子裡<br>\n",
    "2. 複製值<br>\n",
    "當你寫 b = a，就是把 a 裡面的數字（10）複製一份，放到 b 這個盒子裡。現在 a 和 b 都有自己的盒子，各自裝著一個 10<br>\n",
    "3. 改變 a 的值<br>\n",
    "當你寫 a = 20，只是把 a 盒子裡的東西換成 20，但是 b 的盒子還是原本的 10，因為 b 和 a 沒有連在一起<br>\n",
    "4. 印出結果<br>\n",
    "print(a)：你打開a的盒子，裡面是20<br>\n",
    "print(b)：你打開b的盒子，裡面還是原來的10<br>\n",
    "- 改變一個變數的值不會影響到其他複製它的變數，因為它們各自有自己的空間存放自己的值\n"
   ],
   "id": "82f88d8624536674"
  },
  {
   "metadata": {
    "ExecuteTime": {
     "end_time": "2024-11-17T08:19:14.768429Z",
     "start_time": "2024-11-17T08:19:14.759295Z"
    }
   },
   "cell_type": "code",
   "source": [
    "a = 10\n",
    "b = a\n",
    "a = 20\n",
    "print(a)\n",
    "print(b)"
   ],
   "id": "1854adbdb27b7723",
   "outputs": [
    {
     "name": "stdout",
     "output_type": "stream",
     "text": [
      "20\n",
      "10\n"
     ]
    }
   ],
   "execution_count": 8
  },
  {
   "metadata": {},
   "cell_type": "markdown",
   "source": [
    "##### 變數的命名原則\n",
    "- 必須是英文\n",
    "- 開頭不能是數字或特殊字元\n",
    "- 盡量取名能讓你一眼就知道這變數代表的是什麼\n",
    "- 如果一個字不夠你描述，那字與字之間的空格可以用底線或大寫來取代\n",
    "  - 底線：first_name\n",
    "  - 大寫：lastName"
   ],
   "id": "bd22a6d7ca403d72"
  },
  {
   "metadata": {},
   "cell_type": "markdown",
   "source": [
    "### 資料型態\n",
    "1. 數值型態：int, float, boolean\n",
    "2. 字串型態：str\n",
    "3. 容器型態：list, dict, tuple, set (下個章節再詳述)"
   ],
   "id": "bf2516bfd1e77773"
  },
  {
   "metadata": {
    "ExecuteTime": {
     "end_time": "2024-11-10T07:09:43.520019Z",
     "start_time": "2024-11-10T07:09:43.508970Z"
    }
   },
   "cell_type": "code",
   "outputs": [
    {
     "name": "stdout",
     "output_type": "stream",
     "text": [
      "x 為 1，資料型態為<class 'int'>\n",
      "y 為 3.14，資料型態為<class 'float'>\n",
      "z 為 True，資料型態為<class 'bool'>\n",
      "name 為 SCU，資料型態為<class 'str'>\n",
      "list_A  為 [1, 2, 3]，資料型態為<class 'list'>\n",
      "tuple_A  為 (1, 2, 3)，資料型態為<class 'tuple'>\n",
      "set_A  為 {1, 2, 3}，資料型態為<class 'set'>\n",
      "dict_A  為 {'上市公司': '台泥', '股票代碼': '1101', '日期': '0113'}，資料型態為<class 'dict'>\n"
     ]
    }
   ],
   "execution_count": 27,
   "source": [
    "x = 1  #int\n",
    "y = 3.14 #float\n",
    "z = True #boolean\n",
    "\n",
    "college = 'SCU' #string\n",
    "\n",
    "list_A = [1, 2, 3] #list\n",
    "tuple_A = (1, 2, 3) #tuple\n",
    "set_A = {1, 2, 3} #set\n",
    "dict_A = {'上市公司': '台泥', '股票代碼': '1101' , '日期': '0113' } #dict\n",
    "\n",
    "print(f'x 為 {x}，資料型態為{type(x)}')\n",
    "print(f'y 為 {y}，資料型態為{type(y)}')\n",
    "print(f'z 為 {z}，資料型態為{type(z)}')\n",
    "print(f'name 為 {name}，資料型態為{type(name)}')\n",
    "print(f'list_A  為 {list_A}，資料型態為{type(list_A)}')\n",
    "print(f'tuple_A  為 {tuple_A}，資料型態為{type(tuple_A)}')\n",
    "print(f'set_A  為 {set_A}，資料型態為{type(set_A)}')\n",
    "print(f'dict_A  為 {dict_A}，資料型態為{type(dict_A)}')"
   ],
   "id": "a8d86cc87eba1910"
  },
  {
   "metadata": {},
   "cell_type": "markdown",
   "source": [
    "#### 常用特殊字元\n",
    "- \\n : new line\n",
    "- \\t : tab\n",
    "- \\r : return (歸位鍵)"
   ],
   "id": "80a8002e1ea0373f"
  },
  {
   "metadata": {
    "ExecuteTime": {
     "end_time": "2024-11-10T07:21:30.634895Z",
     "start_time": "2024-11-10T07:21:30.623695Z"
    }
   },
   "cell_type": "code",
   "source": [
    "x, y, z = 10, 20, 30\n",
    "print(x, end=\"\\t\")                      \n",
    "print(y, end=\"\\t\")\n",
    "print(z, end=\"\\n\")                      # end : 字串結尾\n",
    "print(\"--------------\")\n",
    "print(f'x 為 {x}\\ny 為 {y}\\nz 為 {z}')\n",
    "print('------------')\n",
    "print(f'x 為 {x}\\ty 為 {y}\\tz 為 {z}')\n",
    "print('------------')\n",
    "print(f'x 為 {x}\\ry 為 {y}\\tz 為 {z}')\n",
    "print(f'x 為 {x}\\ry 為 {y}\\rz 為 {z}')\n",
    "print('------------')\n",
    "print(f'x 為 {x} ',f' y 為 {y} ',f' z 為 {z} ', sep='||')"
   ],
   "id": "8a8f8eee15efb033",
   "outputs": [
    {
     "name": "stdout",
     "output_type": "stream",
     "text": [
      "10\t20\t30\n",
      "--------------\n",
      "x 為 10\n",
      "y 為 20\n",
      "z 為 30\n",
      "------------\n",
      "x 為 10\ty 為 20\tz 為 30\n",
      "------------\n",
      "y 為 20\tz 為 30\n",
      "z 為 30\n",
      "------------\n",
      "x 為 10 || y 為 20 || z 為 30 \n"
     ]
    }
   ],
   "execution_count": 48
  },
  {
   "metadata": {},
   "cell_type": "markdown",
   "source": [
    "#### 基本的算術運算子\n",
    "- 加法\n",
    "- 減法\n",
    "- 乘法\n",
    "- 除法\n",
    "- 商\n",
    "- 餘數\n",
    "- 指數"
   ],
   "id": "bdc8cedbae2f098f"
  },
  {
   "metadata": {
    "ExecuteTime": {
     "end_time": "2024-11-10T07:25:20.456320Z",
     "start_time": "2024-11-10T07:25:20.432935Z"
    }
   },
   "cell_type": "code",
   "source": [
    "print(1+1)\n",
    "print(50-24)\n",
    "print(10*5)\n",
    "print(20/3)\n",
    "print('-------------------')\n",
    "print(20//3)\n",
    "print(20%3)\n",
    "print(2**3)"
   ],
   "id": "4700ce6afcfc0ab5",
   "outputs": [
    {
     "name": "stdout",
     "output_type": "stream",
     "text": [
      "2\n",
      "26\n",
      "50\n",
      "6.666666666666667\n",
      "-------------------\n",
      "6\n",
      "2\n",
      "8\n"
     ]
    }
   ],
   "execution_count": 60
  },
  {
   "metadata": {},
   "cell_type": "markdown",
   "source": "#### in-place 指派運算子",
   "id": "3402f6d9f94e1fb1"
  },
  {
   "metadata": {
    "ExecuteTime": {
     "end_time": "2024-11-10T07:27:57.352706Z",
     "start_time": "2024-11-10T07:27:57.334450Z"
    }
   },
   "cell_type": "code",
   "source": [
    "x = 100\n",
    "x = x + 20\n",
    "print(x)"
   ],
   "id": "e51a512455632515",
   "outputs": [
    {
     "name": "stdout",
     "output_type": "stream",
     "text": [
      "120\n"
     ]
    }
   ],
   "execution_count": 61
  },
  {
   "metadata": {
    "ExecuteTime": {
     "end_time": "2024-11-10T07:28:32.664364Z",
     "start_time": "2024-11-10T07:28:32.658938Z"
    }
   },
   "cell_type": "code",
   "source": [
    "y = 100\n",
    "y += 20         # 如同 x = x + 20\n",
    "print(y)"
   ],
   "id": "930708eb8d45f26b",
   "outputs": [
    {
     "name": "stdout",
     "output_type": "stream",
     "text": [
      "120\n"
     ]
    }
   ],
   "execution_count": 63
  },
  {
   "metadata": {},
   "cell_type": "markdown",
   "source": [
    "#### 比較運算子\n",
    "- \\>  大於        \n",
    "- <   小於        \n",
    "- \\>= 大於等於    \n",
    "- <=  小於等於\n",
    "- !=  不等於\n",
    "- ==  等於\n"
   ],
   "id": "134ce6f305152eba"
  },
  {
   "metadata": {
    "ExecuteTime": {
     "end_time": "2024-11-10T07:48:39.150227Z",
     "start_time": "2024-11-10T07:48:39.131892Z"
    }
   },
   "cell_type": "code",
   "source": [
    "x, y = 100 , 30\n",
    "print(x >= y)            # True/False\n",
    "print(x == y)\n",
    "print(x != y)"
   ],
   "id": "b75a8fdce7b8af47",
   "outputs": [
    {
     "name": "stdout",
     "output_type": "stream",
     "text": [
      "True\n",
      "False\n",
      "True\n"
     ]
    }
   ],
   "execution_count": 64
  },
  {
   "metadata": {},
   "cell_type": "markdown",
   "source": [
    "#### 邏輯運算子運算子\n",
    "- and\t當兩邊皆為True，結果才會True，否則皆為False\n",
    "- or    兩邊其中有一個True，結果就會True，否則為False\n",
    "- not   結果會與運算元(operand)相反\n",
    "\n"
   ],
   "id": "5c2b35b8af4c5183"
  },
  {
   "metadata": {
    "ExecuteTime": {
     "end_time": "2024-11-10T07:51:27.253466Z",
     "start_time": "2024-11-10T07:51:27.243340Z"
    }
   },
   "cell_type": "code",
   "source": [
    "x, y = 100, 50\n",
    "print(x > 50 and y == 50)\n",
    "print(x > 50  or y < 50)"
   ],
   "id": "9400fbfd7cf6ed03",
   "outputs": [
    {
     "name": "stdout",
     "output_type": "stream",
     "text": [
      "True\n",
      "True\n"
     ]
    }
   ],
   "execution_count": 65
  },
  {
   "metadata": {},
   "cell_type": "markdown",
   "source": [
    "#### 模組的屬性、方法\n",
    "以time, os, socket為例"
   ],
   "id": "26067add887a0e2"
  },
  {
   "metadata": {
    "ExecuteTime": {
     "end_time": "2024-11-10T07:54:22.455885Z",
     "start_time": "2024-11-10T07:54:22.447630Z"
    }
   },
   "cell_type": "code",
   "source": [
    "import os\n",
    "import time, socket"
   ],
   "id": "875b92018c192d5f",
   "outputs": [],
   "execution_count": 66
  },
  {
   "metadata": {},
   "cell_type": "markdown",
   "source": "- 當前路徑",
   "id": "d80a8d1123e88321"
  },
  {
   "metadata": {},
   "cell_type": "code",
   "outputs": [],
   "execution_count": null,
   "source": "os.getcwd()",
   "id": "d7f10fed74160ced"
  },
  {
   "metadata": {},
   "cell_type": "markdown",
   "source": "- 當前時間",
   "id": "fbc605f3260f2c69"
  },
  {
   "metadata": {
    "ExecuteTime": {
     "end_time": "2024-11-10T07:54:55.599990Z",
     "start_time": "2024-11-10T07:54:55.582897Z"
    }
   },
   "cell_type": "code",
   "source": "time.strftime(\"%Y/%m/%d %H:%M:%S\")",
   "id": "79b1f7a184539399",
   "outputs": [
    {
     "data": {
      "text/plain": [
       "'2024/11/10 15:54:55'"
      ]
     },
     "execution_count": 67,
     "metadata": {},
     "output_type": "execute_result"
    }
   ],
   "execution_count": 67
  },
  {
   "metadata": {},
   "cell_type": "markdown",
   "source": "- 主機名稱",
   "id": "319c46b35664e152"
  },
  {
   "metadata": {
    "ExecuteTime": {
     "end_time": "2024-11-10T07:55:17.956446Z",
     "start_time": "2024-11-10T07:55:17.948835Z"
    }
   },
   "cell_type": "code",
   "source": "socket.gethostname()",
   "id": "fd357d15fef73233",
   "outputs": [
    {
     "data": {
      "text/plain": [
       "'linshaoqiandeMacBook-Pro.local'"
      ]
     },
     "execution_count": 69,
     "metadata": {},
     "output_type": "execute_result"
    }
   ],
   "execution_count": 69
  },
  {
   "metadata": {},
   "cell_type": "markdown",
   "source": "- 主機位置",
   "id": "49c24620339a819c"
  },
  {
   "metadata": {
    "ExecuteTime": {
     "end_time": "2024-11-10T07:55:39.492481Z",
     "start_time": "2024-11-10T07:55:37.075921Z"
    }
   },
   "cell_type": "code",
   "source": "socket.gethostbyname(socket.gethostname())",
   "id": "9dfab060e4526ed6",
   "outputs": [
    {
     "data": {
      "text/plain": [
       "'127.0.0.1'"
      ]
     },
     "execution_count": 70,
     "metadata": {},
     "output_type": "execute_result"
    }
   ],
   "execution_count": 70
  }
 ],
 "metadata": {
  "kernelspec": {
   "display_name": "Python 3",
   "language": "python",
   "name": "python3"
  },
  "language_info": {
   "codemirror_mode": {
    "name": "ipython",
    "version": 2
   },
   "file_extension": ".py",
   "mimetype": "text/x-python",
   "name": "python",
   "nbconvert_exporter": "python",
   "pygments_lexer": "ipython2",
   "version": "2.7.6"
  }
 },
 "nbformat": 4,
 "nbformat_minor": 5
}
