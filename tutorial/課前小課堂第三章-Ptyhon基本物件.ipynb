{
 "cells": [
  {
   "cell_type": "markdown",
   "id": "249a3b2bbe3e97a9",
   "metadata": {},
   "source": [
    "## Python基本物件\n",
    "這章節將進一步解釋以下四者\n",
    "- list : [ ]\n",
    "- tuple : ( )\n",
    "- set : { }\n",
    "- dict : { }"
   ]
  },
  {
   "cell_type": "code",
   "execution_count": 35,
   "id": "initial_id",
   "metadata": {
    "ExecuteTime": {
     "end_time": "2025-02-16T05:54:39.343242Z",
     "start_time": "2025-02-16T05:54:39.327186Z"
    },
    "collapsed": true,
    "jupyter": {
     "outputs_hidden": true
    }
   },
   "outputs": [
    {
     "name": "stdout",
     "output_type": "stream",
     "text": [
      "Python version: 3.9.13\n"
     ]
    },
    {
     "data": {
      "application/javascript": [
       "IPython.notebook.set_autosave_interval(120000)"
      ]
     },
     "metadata": {},
     "output_type": "display_data"
    },
    {
     "name": "stdout",
     "output_type": "stream",
     "text": [
      "Autosaving every 120 seconds\n"
     ]
    }
   ],
   "source": [
    "#開始前記得先run這個cell\n",
    "# -*- coding: utf-8 -*-\n",
    "from platform import python_version\n",
    "\n",
    "print(\"Python version: {}\".format(python_version()))\n",
    "%autosave 120"
   ]
  },
  {
   "cell_type": "markdown",
   "id": "561a5598bc810109",
   "metadata": {},
   "source": [
    "## List 列表\n",
    "---\n",
    "list 是一種可以儲存多個資料的容器，這些資料可以是任何型別，例如整數、字串、浮點數、布林值，甚至是其他列表"
   ]
  },
  {
   "cell_type": "code",
   "execution_count": 36,
   "id": "e1d8242bf71709c3",
   "metadata": {
    "ExecuteTime": {
     "end_time": "2025-02-16T05:54:39.406035Z",
     "start_time": "2025-02-16T05:54:39.390459Z"
    }
   },
   "outputs": [],
   "source": [
    "# 一般的list\n",
    "my_list = [1, 2, 3, 4, 5]\n",
    "\n",
    "# list包含不同類型的資料\n",
    "mixed_list = [1, \"Hello\", 3.14, True, [1,2,3]]"
   ]
  },
  {
   "cell_type": "markdown",
   "id": "8b361fd2b7b8ecec",
   "metadata": {},
   "source": [
    "### 存取列表中的元素\n",
    "列表中的每個元素都有一個編號，稱為「索引」（index)，Python 的索引 **<font color=#FF0000>從 0 開始</font>** (非常重要)<br>\n",
    "- 正索引從 0 開始\n",
    "- 負索引從 -1 開始"
   ]
  },
  {
   "cell_type": "code",
   "execution_count": 37,
   "id": "cc71c62eec764806",
   "metadata": {
    "ExecuteTime": {
     "end_time": "2025-02-16T05:54:39.436574Z",
     "start_time": "2025-02-16T05:54:39.430299Z"
    }
   },
   "outputs": [
    {
     "name": "stdout",
     "output_type": "stream",
     "text": [
      "apple\n",
      "banana\n",
      "cherry\n",
      "watermelon\n"
     ]
    }
   ],
   "source": [
    "# 今天我有三種水果在桌上，有兩個水果被放在另一個籃子中\n",
    "fruits = [\"apple\", \"banana\", \"cherry\", [\"watermelon\", \"orange\"]]\n",
    "\n",
    "# 取得桌上第一個水果會是apple\n",
    "print(fruits[0])  \n",
    "\n",
    "# 取得桌上第二個水果會是banana\n",
    "print(fruits[1])  \n",
    "\n",
    "# 取得桌上倒數第二個水果會是cherry\n",
    "print(fruits[-2])\n",
    "\n",
    "# 取得籃子中第一個水果會是watermelon\n",
    "# 如果 list 中有 list ，那就就構成了「多維列表」\n",
    "# 讀取元素時如果有第二層，就就在原先的中括號後面多一個中括號，這就能讀取第二層的元素\n",
    "print(fruits[3][0])  "
   ]
  },
  {
   "cell_type": "markdown",
   "id": "aa1c624ba3553b31",
   "metadata": {},
   "source": [
    "### 取出列表範圍中的元素\n",
    "1.```slice()``` 函式可以取出 list 中某個範圍的元素，也可以使在中括號裡加上冒號```:```來指定範圍<br>\n",
    "    ```[頭:尾]``` 口絕 : 取頭不取尾<br>\n",
    "2. 使用兩個冒號```[::]```，表示要**間隔幾個項目**取值"
   ]
  },
  {
   "cell_type": "code",
   "execution_count": 38,
   "id": "4032642928c53890",
   "metadata": {
    "ExecuteTime": {
     "end_time": "2025-02-16T05:54:39.483635Z",
     "start_time": "2025-02-16T05:54:39.473281Z"
    }
   },
   "outputs": [
    {
     "name": "stdout",
     "output_type": "stream",
     "text": [
      "[0, 1, 2]\n",
      "[3, 4, 5, 6, 7, 8, 9]\n",
      "[1, 2]\n",
      "[5, 6, 7]\n"
     ]
    }
   ],
   "source": [
    "# 1. slice\n",
    "a = [0,1,2,3,4,5,6,7,8,9]\n",
    "b = a[:3] # 取範圍0到2\n",
    "c = a[3:] # 取範圍從3開始到最後\n",
    "d = a[1:3] # 取第1到3之前(不含3)\n",
    "e = a[-5:-2] # 取-5到-2(不含-2)\n",
    "print(b)   \n",
    "print(c)   \n",
    "print(d)   \n",
    "print(e)   "
   ]
  },
  {
   "cell_type": "code",
   "execution_count": 39,
   "id": "1eb6a79bc52f5064",
   "metadata": {
    "ExecuteTime": {
     "end_time": "2025-02-16T05:54:39.515249Z",
     "start_time": "2025-02-16T05:54:39.506737Z"
    }
   },
   "outputs": [
    {
     "name": "stdout",
     "output_type": "stream",
     "text": [
      "[0, 3, 6, 9]\n",
      "[3, 5, 7, 9]\n",
      "[9, 8, 7, 6, 5, 4, 3, 2, 1, 0]\n",
      "[9, 7, 5, 3, 1]\n"
     ]
    }
   ],
   "source": [
    "# 2. 表示間隔幾個項目取值\n",
    "a = [0,1,2,3,4,5,6,7,8,9]\n",
    "b = a[::3] # 每隔三項目取值\n",
    "c = a[3::2] # 從第三個項目開始，每隔兩項目取值\n",
    "d = a[::-1] # 反轉串列\n",
    "e = a[::-2] # 反轉串列，每隔兩個項目取值\n",
    "print(b)   \n",
    "print(c)   \n",
    "print(d)   \n",
    "print(e)   "
   ]
  },
  {
   "cell_type": "markdown",
   "id": "32141c7e48a8407c",
   "metadata": {},
   "source": [
    "### 更改列表中的元素\n",
    "1. **修改**指定索引中的值\n",
    "2. **新增**元素到列表中\n",
    "3. **刪除**列表中我不要的元素\n",
    "4. **slice 範圍修改**索引中的值"
   ]
  },
  {
   "cell_type": "code",
   "execution_count": 40,
   "id": "8ba7db6fbc09dc44",
   "metadata": {
    "ExecuteTime": {
     "end_time": "2025-02-16T05:54:39.562302Z",
     "start_time": "2025-02-16T05:54:39.545933Z"
    }
   },
   "outputs": [
    {
     "name": "stdout",
     "output_type": "stream",
     "text": [
      "['apple', 'orange', 'cherry']\n"
     ]
    }
   ],
   "source": [
    "# 1. 修改\n",
    "# 今天我有三種水果\n",
    "fruits = [\"apple\", \"banana\", \"cherry\"]\n",
    "\n",
    "# 但第二個其實不是香蕉，而是橘子\n",
    "# 那就修改 list 中第\"1\"個值為橘子 \n",
    "fruits[1] = \"orange\"\n",
    "print(fruits)  # 輸出：['apple', 'orange', 'cherry']"
   ]
  },
  {
   "cell_type": "code",
   "execution_count": 41,
   "id": "931f898fb1595b74",
   "metadata": {
    "ExecuteTime": {
     "end_time": "2025-02-16T05:54:39.593345Z",
     "start_time": "2025-02-16T05:54:39.587012Z"
    }
   },
   "outputs": [
    {
     "name": "stdout",
     "output_type": "stream",
     "text": [
      "['apple', 'banana', 'cherry', 'orange']\n",
      "['apple', 'watermelon', 'banana', 'cherry', 'orange']\n"
     ]
    }
   ],
   "source": [
    "# 2. 新增\n",
    "# 今天我有三種水果\n",
    "fruits = [\"apple\", \"banana\", \"cherry\"]\n",
    "\n",
    "#我阿嬤又給我一顆橘子\n",
    "#可以使用 append() 在列表末尾新增元素\n",
    "fruits.append(\"orange\")\n",
    "print(fruits) # 輸出：['apple', 'banana', 'cherry', 'orange']\n",
    "\n",
    "#也可以使用 insert() 將新元素新增在指定位置\n",
    "fruits.insert(1, \"watermelon\")\n",
    "print(fruits) # 輸出：['apple', 'watermelon', 'banana', 'cherry', 'orange']"
   ]
  },
  {
   "cell_type": "code",
   "execution_count": 42,
   "id": "205b6976b0a98b83",
   "metadata": {
    "ExecuteTime": {
     "end_time": "2025-02-16T05:54:39.639968Z",
     "start_time": "2025-02-16T05:54:39.625455Z"
    }
   },
   "outputs": [
    {
     "name": "stdout",
     "output_type": "stream",
     "text": [
      "['apple', 'watermelon', 'banana', 'orange']\n",
      "['apple', 'banana', 'orange']\n",
      "['banana', 'orange']\n",
      "[]\n"
     ]
    }
   ],
   "source": [
    "# 3. 刪除\n",
    "# 今天我有五種水果\n",
    "fruits = ['apple', 'watermelon', 'banana', 'cherry', 'orange']\n",
    "\n",
    "#假如今天我把cherry吃掉了\n",
    "#可以使用 remove() 刪除指定的值\n",
    "fruits.remove(\"cherry\")\n",
    "print(fruits)  # 輸出： ['apple', 'watermelon', 'banana', 'orange']\n",
    "\n",
    "#假如今天我把 list 中第\"1\"個水果吃掉了\n",
    "#可以使用 pop() 刪除指定索引的值\n",
    "fruits.pop(1)\n",
    "print(fruits) # 輸出： ['apple', 'banana', 'orange']\n",
    "\n",
    "#也可以用 del 刪除指定索引的值\n",
    "del fruits[0]\n",
    "print(fruits) # 輸出： ['banana', 'orange']\n",
    "\n",
    "#可以用 clear() 清空整個list\n",
    "fruits.clear()\n",
    "print(fruits)"
   ]
  },
  {
   "cell_type": "code",
   "execution_count": 43,
   "id": "b7626f7fdb792096",
   "metadata": {
    "ExecuteTime": {
     "end_time": "2025-02-16T05:54:39.672192Z",
     "start_time": "2025-02-16T05:54:39.657846Z"
    }
   },
   "outputs": [
    {
     "name": "stdout",
     "output_type": "stream",
     "text": [
      "['apple', 'strawberry', 'strawberry', 'strawberry', 'orange']\n",
      "['apple', 'strawberry', 'strawberry', 'banana', 'banana', 'orange']\n",
      "['a', 'h', 'e', 'l', 'l', 'o', 'e']\n"
     ]
    }
   ],
   "source": [
    "# 3. slice 範圍修改\n",
    "# 今天我有五種水果\n",
    "fruits = ['apple', 'watermelon', 'banana', 'cherry', 'orange'] \n",
    "# 我有拿了 watermelon, banana, cherry 三樣東西和姊姊換了三顆 strawberry\n",
    "fruits[1:4] = ['strawberry', 'strawberry', 'strawberry']\n",
    "print(fruits) # 輸出： ['apple', 'strawberry', 'strawberry', 'strawberry', 'orange']\n",
    "\n",
    "# 指定更換的項目的數量，不一定要和原本的一樣多 ( 可以比較少，也可以比較多 )，更換後會將範圍的內容，完全換成新的內容\n",
    "# 我有拿了三顆 strawberry(index 1,2,3 ) 和姊姊換了2顆 strawberry 和2顆 banana\n",
    "fruits[1:4] = ['strawberry', 'strawberry', 'banana', 'banana']\n",
    "print(fruits)\n",
    "\n",
    "# 更換的內容不一定要是串列，只要是可以「迭代」的內容都可以，字串或之後會提的元組都可以\n",
    "a = ['a','b','c','d','e']\n",
    "a[1:4] = 'hello'\n",
    "print(a)"
   ]
  },
  {
   "cell_type": "markdown",
   "id": "975cd290d7f822d2",
   "metadata": {},
   "source": [
    "### 檢查元素是否在列表中\n",
    "使用```in```來搜尋關鍵字是否有在列表中<br>\n",
    "- 如果關鍵字<font color=#0000FF>存在</font>於 list 中，回傳 **TRUE**<br>\n",
    "- 如果關鍵字<font color=#0000FF>不存在</font>於 list 中，回傳 **FALSE**"
   ]
  },
  {
   "cell_type": "code",
   "execution_count": 44,
   "id": "5b881705e7d75fb",
   "metadata": {
    "ExecuteTime": {
     "end_time": "2025-02-16T05:54:39.732123Z",
     "start_time": "2025-02-16T05:54:39.721410Z"
    }
   },
   "outputs": [
    {
     "name": "stdout",
     "output_type": "stream",
     "text": [
      "True\n",
      "False\n"
     ]
    }
   ],
   "source": [
    "fruits = [\"apple\", \"banana\", \"cherry\"]\n",
    "\n",
    "#尋找 apple 是否有在 list 中\n",
    "print(\"apple\" in fruits)  # 輸出：True\n",
    "\n",
    "#尋找 watermelon 是否有在 list 中\n",
    "print(\"watermelon\" in fruits) # 輸出：False"
   ]
  },
  {
   "cell_type": "markdown",
   "id": "d94237344749d1c1",
   "metadata": {},
   "source": [
    "### 列表排序\n",
    "- 使用```sort()``` 進行排序（這會改變原列表）<br>\n",
    "- 使用```sorted()``` 進行排序（不改變原列表）"
   ]
  },
  {
   "cell_type": "code",
   "execution_count": 45,
   "id": "22d47ea44904751",
   "metadata": {
    "ExecuteTime": {
     "end_time": "2025-02-16T05:54:39.792826Z",
     "start_time": "2025-02-16T05:54:39.783090Z"
    }
   },
   "outputs": [
    {
     "name": "stdout",
     "output_type": "stream",
     "text": [
      "[1, 1, 3, 4, 5]\n"
     ]
    }
   ],
   "source": [
    "#使用 sort() 來做排序，使用後 list 的排序也會被更動\n",
    "numbers = [3, 1, 4, 1, 5]\n",
    "numbers.sort()\n",
    "print(numbers)  # 輸出：[1, 1, 3, 4, 5]"
   ]
  },
  {
   "cell_type": "code",
   "execution_count": 46,
   "id": "e1aacf7501b19f4d",
   "metadata": {
    "ExecuteTime": {
     "end_time": "2025-02-16T05:54:39.856049Z",
     "start_time": "2025-02-16T05:54:39.841506Z"
    }
   },
   "outputs": [
    {
     "name": "stdout",
     "output_type": "stream",
     "text": [
      "[1, 1, 3, 4, 5]\n",
      "[3, 1, 4, 1, 5]\n"
     ]
    }
   ],
   "source": [
    "#使用 sorted() 來做排序，使用後 list 的排序不會被更動，第二個輸出可以證明這點\n",
    "numbers = [3, 1, 4, 1, 5]\n",
    "sorted_numbers = sorted(numbers)\n",
    "print(sorted_numbers)  # 輸出：[1, 1, 3, 4, 5]\n",
    "print(numbers)         # 輸出：[3, 1, 4, 1, 5]"
   ]
  },
  {
   "cell_type": "markdown",
   "id": "558e93d75b9845e4",
   "metadata": {},
   "source": [
    "### 遍歷列表\n",
    "使用```for```可以逐一訪問列表中的元素"
   ]
  },
  {
   "cell_type": "code",
   "execution_count": 47,
   "id": "cf2ad9a26ca4b958",
   "metadata": {
    "ExecuteTime": {
     "end_time": "2025-02-16T05:54:39.902088Z",
     "start_time": "2025-02-16T05:54:39.896023Z"
    }
   },
   "outputs": [
    {
     "name": "stdout",
     "output_type": "stream",
     "text": [
      "apple\n",
      "banana\n",
      "cherry\n"
     ]
    }
   ],
   "source": [
    "fruits = [\"apple\", \"banana\", \"cherry\"]\n",
    "\n",
    "for fruit in fruits:\n",
    "    print(fruit)\n",
    "# 輸出：\n",
    "# apple\n",
    "# banana\n",
    "# cherry"
   ]
  },
  {
   "cell_type": "markdown",
   "id": "42ec3ea9ec8a0a45",
   "metadata": {},
   "source": [
    "### 合併列表\n",
    "兩個 ```list```  合併在一起，有兩種方法<br>\n",
    "- 使用 ```+``` 在 + 號右方的串列，會加在左方串列的後方\n",
    "- 使用 ```extend()``` 一個串列的後方，合併另外一個串列的內容"
   ]
  },
  {
   "cell_type": "code",
   "execution_count": 48,
   "id": "e3d3988b7bf105f0",
   "metadata": {
    "ExecuteTime": {
     "end_time": "2025-02-16T05:54:39.932974Z",
     "start_time": "2025-02-16T05:54:39.921455Z"
    }
   },
   "outputs": [
    {
     "name": "stdout",
     "output_type": "stream",
     "text": [
      "['apple', 'banana', 'cherry', 'watermelon', 'orange']\n"
     ]
    }
   ],
   "source": [
    "# 使用 + 來合併\n",
    "# 我有三種水果，我阿嬤有兩種水果\n",
    "me = [\"apple\", \"banana\", \"cherry\"]\n",
    "grandma = [\"watermelon\", \"orange\"]\n",
    "#我們兩個合併在一起就是我們家所有的水果\n",
    "home = me + grandma\n",
    "print(home) # 輸出：['apple', 'banana', 'cherry', 'watermelon', 'orange']"
   ]
  },
  {
   "cell_type": "code",
   "execution_count": 49,
   "id": "1328b2be997a426",
   "metadata": {
    "ExecuteTime": {
     "end_time": "2025-02-16T05:54:39.979087Z",
     "start_time": "2025-02-16T05:54:39.961961Z"
    }
   },
   "outputs": [
    {
     "name": "stdout",
     "output_type": "stream",
     "text": [
      "['watermelon', 'orange', 'apple', 'banana', 'cherry']\n",
      "['apple', 'banana', 'cherry']\n",
      "None\n"
     ]
    }
   ],
   "source": [
    "# 使用 extend() 來合併\n",
    "# 我有三種水果，我阿嬤有兩種水果\n",
    "me = [\"apple\", \"banana\", \"cherry\"]\n",
    "grandma = [\"watermelon\", \"orange\"]\n",
    "#我給阿嬤我所有的水果，我的水果被合併到阿嬤的list中\n",
    "grandma.extend(me)\n",
    "print(grandma)\n",
    "print(me)\n",
    "\n",
    "#需注意的extend會改變list，但不會回傳list的值\n",
    "#所以當寫成跟上面 home = me + grandma 會得到 None 的結果\n",
    "home = grandma.extend(me)\n",
    "print(home)"
   ]
  },
  {
   "cell_type": "markdown",
   "id": "7ac2cc4e699c955d",
   "metadata": {},
   "source": [
    "## Tuple 元組\n",
    "---\n",
    "元組是用來存放多個資料的有序集合，與列表一樣可以存放不同型別的資料，但元組的內容一旦建立就<font color=#FF0000>無法改變</font><br>\n",
    "元組使用小括號 ```()``` 定義，裡面的元素用逗號 ```,``` 分隔<br>\n",
    "\n",
    "|    特性    |      tuple       |      list       |\n",
    "|:--------:|:----------------:|:---------------:|\n",
    "|   可修改性   |       不可變        |       可變        |\n",
    "|    語法    | \t使用小括號 ```()```  | 使用方括號 ```[]```  |\n",
    "|   使用場景   |   適合保存不需要改變的資料   |   適合需要頻繁修改的資料   | \n",
    "\n",
    "單一元素的元組必須加上逗號``` ,```，否則會被視為普通的資料類型<br>\n",
    "tuple使用方法和list大致相同，下方就不贅述tuple使用方式"
   ]
  },
  {
   "cell_type": "code",
   "execution_count": 50,
   "id": "a98252c99c5a2452",
   "metadata": {
    "ExecuteTime": {
     "end_time": "2025-02-16T05:54:40.010014Z",
     "start_time": "2025-02-16T05:54:39.995506Z"
    }
   },
   "outputs": [
    {
     "name": "stdout",
     "output_type": "stream",
     "text": [
      "<class 'tuple'>\n",
      "<class 'int'>\n",
      "(1, 2, 3)\n",
      "('apple', 'banana', 'orange', 'grap')\n"
     ]
    }
   ],
   "source": [
    "# 建立一個元組\n",
    "my_tuple = (1, 2, 3)\n",
    "\n",
    "# 元組可以包含不同類型的資料\n",
    "mixed_tuple = (1, \"Hello\", 3.14, True, [1,2,3])\n",
    "\n",
    "#單一元素的元組必須加上逗號 ,，否則會被視為普通的資料類型\n",
    "single_element_tuple = (42,)  # 注意逗號\n",
    "not_a_tuple = (42)  # 這只是整數\n",
    "print(type(single_element_tuple))  # <class 'tuple'>\n",
    "print(type(not_a_tuple))  # <class 'int'>\n",
    "\n",
    "# 使用 tuple() 函數轉換成元組\n",
    "my_list = [1, 2, 3]\n",
    "my_tuple = tuple(my_list)\n",
    "print(my_tuple)  # 輸出：(1, 2, 3)\n",
    "\n",
    "# 強制修改tuple\n",
    "# 使用串列 list 存取 tuple 資料，修改資料後，再轉換為新的 tuple\n",
    "a = ('apple','banana','orange')\n",
    "b = list(a)\n",
    "b.append('grap')\n",
    "a = tuple(b)\n",
    "print(a) "
   ]
  },
  {
   "cell_type": "markdown",
   "id": "296c6512ffd5ce76",
   "metadata": {},
   "source": [
    "## Dictionary 字典\n",
    "---\n",
    "字典可以放入字串、整數、浮點數、布林值、列表、tuple和字典，只要通過 <font color=#FF0000>Key</font> 就能查到對應的 <font color=#FF0000>Value</font> <br>\n",
    "\n",
    "\n"
   ]
  },
  {
   "cell_type": "markdown",
   "id": "8b28279eae839694",
   "metadata": {},
   "source": [
    "### 建立字典\n",
    "Key 必須是\"字串\"，後必須加上\"引號\"，value 可以放各種資料型態，不同的 Key 要以 ```,```分開"
   ]
  },
  {
   "cell_type": "code",
   "execution_count": 51,
   "id": "768691ac88d9da4f",
   "metadata": {
    "ExecuteTime": {
     "end_time": "2025-02-16T05:54:40.041506Z",
     "start_time": "2025-02-16T05:54:40.028712Z"
    }
   },
   "outputs": [
    {
     "name": "stdout",
     "output_type": "stream",
     "text": [
      "{'section_1': '蘋果', 'section_2': ['牛肉', '豬肉', '羊肉'], 'Number_of _visitors': 50}\n",
      "<class 'dict'>\n"
     ]
    }
   ],
   "source": [
    "# dictionary_name = {'key' : value, 'key_1' : [value, value1, value2]}\n",
    "supermarket = {\"section_1\" : '蘋果', 'section_2' : ['牛肉', '豬肉', '羊肉'], 'Number_of _visitors' : 50 }\n",
    "print(supermarket)\n",
    "print(type(supermarket))"
   ]
  },
  {
   "cell_type": "markdown",
   "id": "2e05bbc98eb77e4c",
   "metadata": {},
   "source": [
    "建立字典也可以使用```dict()```來建立字典，並且有三中方式<br>\n",
    "1. ```dict(Key = Value)```\n",
    "    - Key 要遵守 Python 的命名規則，= 後方就一樣可以放入各種資料型態的 Value ，最後一樣要用 ```,```分隔不同的 Key \n",
    "2. 將兩個值的**二維 List** 或**二維 Tuple** 轉換為字典\n",
    "3. 雙字元的字串轉為字典\n"
   ]
  },
  {
   "cell_type": "code",
   "execution_count": 52,
   "id": "2eb1c5ce6c79d113",
   "metadata": {
    "ExecuteTime": {
     "end_time": "2025-02-16T05:54:40.072937Z",
     "start_time": "2025-02-16T05:54:40.067426Z"
    }
   },
   "outputs": [
    {
     "name": "stdout",
     "output_type": "stream",
     "text": [
      "<class 'dict'>\n",
      "{'section_1': '蘋果', 'section_2': ['牛肉', '豬肉', '羊肉'], 'Number_of_visitors': 100} \n",
      "-------------------\n",
      "<class 'dict'>\n",
      "{'section_1': '蘋果', 'section_2': ['牛肉', '豬肉', '羊肉'], 'Number_of_visitors': 150} \n",
      "-------------------\n",
      "<class 'dict'>\n",
      "{'a': 'b', 'c': 'd', 'e': 'f', 'g': 'h'}\n"
     ]
    }
   ],
   "source": [
    "#第一種\n",
    "# dictionary_name = dict(Key = Value, Key_1 = [value, value1, value2])\n",
    "supermarket_1 = dict(section_1 = '蘋果', section_2 = ['牛肉', '豬肉', '羊肉'], Number_of_visitors = 100)\n",
    "print(type(supermarket_1))\n",
    "print(supermarket_1, '\\n-------------------')\n",
    "\n",
    "#第二種 (以list為範例)\n",
    "supermarket_list = [['section_1', '蘋果'], ['section_2', ['牛肉', '豬肉', '羊肉']], ['Number_of_visitors', 150]]\n",
    "supermarket_2 = dict(supermarket_list)\n",
    "print(type(supermarket_2))\n",
    "print(supermarket_2, '\\n-------------------')\n",
    "\n",
    "#第三種 \n",
    "a_list = ['ab','cd','ef','gh']\n",
    "a_dict = dict(a_list)\n",
    "print(type(a_dict))\n",
    "print(a_dict)"
   ]
  },
  {
   "cell_type": "markdown",
   "id": "5573f5f83142a172",
   "metadata": {},
   "source": [
    "### 讀取字典中的值\n",
    "決定好 Key 就可以讀取對應的 Value"
   ]
  },
  {
   "cell_type": "code",
   "execution_count": 53,
   "id": "e13ccbe550d55101",
   "metadata": {
    "ExecuteTime": {
     "end_time": "2025-02-16T05:54:40.103529Z",
     "start_time": "2025-02-16T05:54:40.099114Z"
    }
   },
   "outputs": [
    {
     "name": "stdout",
     "output_type": "stream",
     "text": [
      "['牛肉', '豬肉', '羊肉']\n",
      "<class 'list'> \n",
      "-------------------\n",
      "牛肉\n",
      "<class 'str'>\n"
     ]
    }
   ],
   "source": [
    "#超市為例，第一區賣蘋果，第二區賣三種肉\n",
    "supermarket_1 = dict(section_1 = '蘋果', section_2 = ['牛肉', '豬肉', '羊肉'], Number_of_visitors = 100)\n",
    "#今天想知道第二區在賣甚麼，可以透過supermarket_1['section_2']來得知\n",
    "section2_info = supermarket_1['section_2']\n",
    "print(section2_info)\n",
    "print(type(section2_info), '\\n-------------------')\n",
    "\n",
    "#今天想知道第二區的第一格在賣甚麼，可以透過supermarket_1['section_2'][0]來得知\n",
    "section2_info_first = supermarket_1['section_2'][0]\n",
    "print(section2_info_first)\n",
    "print(type(section2_info_first))"
   ]
  },
  {
   "cell_type": "markdown",
   "id": "29924c827873718b",
   "metadata": {},
   "source": [
    "除了上述的方法可以讀取字典中的值，也可以透過 ```get(Key)``` 來取得 Key 對應的 Value <br>\n",
    "使用原本的方法時，如果沒有對應的 Key 在字典中，這將會發生錯誤，但如果是用 ```get``` 這個方法，如果找不到 Key ，那將會回傳 ```None```"
   ]
  },
  {
   "cell_type": "code",
   "execution_count": 54,
   "id": "7259a8c350d7acfb",
   "metadata": {
    "ExecuteTime": {
     "end_time": "2025-02-16T05:54:40.135080Z",
     "start_time": "2025-02-16T05:54:40.128569Z"
    }
   },
   "outputs": [
    {
     "name": "stdout",
     "output_type": "stream",
     "text": [
      "['牛肉', '雞肉', '羊肉']\n",
      "<class 'list'> \n",
      "-------------------\n",
      "None\n",
      "<class 'NoneType'> \n",
      "-------------------\n"
     ]
    }
   ],
   "source": [
    "#超市為例，第一區賣蘋果，第二區賣三種肉\n",
    "supermarket_1 = dict(section_1 = '蘋果', section_2 = ['牛肉', '雞肉', '羊肉'], Number_of_visitors = 150)\n",
    "#今天想知道第二區在賣甚麼，可以透過supermarket_1.get('section_2')來得知\n",
    "section2_info = supermarket_1.get('section_2')\n",
    "print(section2_info)\n",
    "print(type(section2_info), '\\n-------------------')\n",
    "\n",
    "#今天想知道第三區在賣甚麼，邏輯推理上可能可以使用supermarket_1.get('section_3')，但 supermarket_1 中 section_3 其實不存在，所以將會回傳 None\n",
    "section2_info = supermarket_1.get('section_3')\n",
    "print(section2_info)\n",
    "print(type(section2_info), '\\n-------------------')"
   ]
  },
  {
   "cell_type": "markdown",
   "id": "8b3fc8a8dcf34554",
   "metadata": {},
   "source": [
    "### 修改字典中的值\n",
    "方法有兩種，這兩者當遇到不存在於字典中的 ```Key``` 時，他們都會將新的 ```Key``` 和 ```Value``` 加入到字典當中<br>\n",
    "1. 中括號 [```Key```] = ```Value```\n",
    "2. setdefault(```Key```, ```Value```)\n"
   ]
  },
  {
   "cell_type": "code",
   "execution_count": 55,
   "id": "7b2af4a4a1e9dd90",
   "metadata": {
    "ExecuteTime": {
     "end_time": "2025-02-16T05:54:40.183104Z",
     "start_time": "2025-02-16T05:54:40.165078Z"
    }
   },
   "outputs": [
    {
     "name": "stdout",
     "output_type": "stream",
     "text": [
      "鳳梨\n",
      "<class 'str'> \n",
      "-------------------\n",
      "['牛肉', '雞肉', '羊肉', '豬肉']\n",
      "<class 'list'> \n",
      "-------------------\n",
      "['高麗菜', '菠菜', '茼蒿']\n",
      "<class 'list'>\n"
     ]
    }
   ],
   "source": [
    "#方法一\n",
    "#超市為例，第一區賣蘋果，第二區賣三種肉\n",
    "supermarket_1 = dict(section_1 = '蘋果', section_2 = ['牛肉', '雞肉', '羊肉'], Number_of_visitors = 150)\n",
    "#當今天超市新增第一區改賣鳳梨\n",
    "supermarket_1['section_1'] = '鳳梨'\n",
    "print(supermarket_1['section_1'])\n",
    "print(type(supermarket_1['section_1']), '\\n-------------------')\n",
    "\n",
    "#當今天超市新增第二區多賣豬肉\n",
    "supermarket_1['section_2'].append('豬肉')\n",
    "#supermarket_1['section_2']就是個list，所以直接使用append()來修改原本的list\n",
    "print(supermarket_1['section_2'])\n",
    "print(type(supermarket_1['section_2']), '\\n-------------------')\n",
    "\n",
    "#當今天超市新增第三區要賣蔬菜\n",
    "supermarket_1['section_3'] = ['高麗菜','菠菜','茼蒿']\n",
    "print(supermarket_1['section_3'])\n",
    "print(type(supermarket_1['section_3']))"
   ]
  },
  {
   "cell_type": "code",
   "execution_count": 56,
   "id": "7a3877bbaea9bb8c",
   "metadata": {
    "ExecuteTime": {
     "end_time": "2025-02-16T05:54:40.214954Z",
     "start_time": "2025-02-16T05:54:40.200173Z"
    }
   },
   "outputs": [
    {
     "name": "stdout",
     "output_type": "stream",
     "text": [
      "蘋果\n",
      "<class 'str'> \n",
      "-------------------\n",
      "['高麗菜', '菠菜', '茼蒿']\n",
      "<class 'list'>\n"
     ]
    }
   ],
   "source": [
    "#方法二\n",
    "#超市為例，第一區賣蘋果，第二區賣三種肉\n",
    "supermarket_1 = dict(section_1 = '蘋果', section_2 = ['牛肉', '雞肉', '羊肉'], Number_of_visitors = 150)\n",
    "#當今天超市新增第一區改賣鳳梨\n",
    "section1_info = supermarket_1.setdefault('section_1', '鳳梨') \n",
    "print(section1_info)\n",
    "print(type(section1_info), '\\n-------------------')\n",
    "\n",
    "#當今天超市新增第三區要賣蔬菜\n",
    "supermarket_1.setdefault('section_3', ['高麗菜','菠菜','茼蒿'])\n",
    "section3_info = supermarket_1.get('section_3')\n",
    "print(section3_info)\n",
    "print(type(section3_info))"
   ]
  },
  {
   "cell_type": "markdown",
   "id": "2f1faf2a2153d576",
   "metadata": {},
   "source": [
    "### 刪除字典中的值\n",
    "1. ```del```\n",
    "    - del[```Key```] 是刪除特定 Key 的 Value\n",
    "    - del dictionary_name 是刪除整個字典\n",
    "2. ```pop```\n",
    "    - ```pop(Key)```是取得並移出\n",
    "    - ```( )``` 需要需要有 ```Key```不然會報錯\n",
    "3. ```clear```\n",
    "    - ```dictionary_name.clear()``` 一次性將字典中所有項目清空刪除    "
   ]
  },
  {
   "cell_type": "code",
   "execution_count": 57,
   "id": "aa460ecd60564fd1",
   "metadata": {
    "ExecuteTime": {
     "end_time": "2025-02-16T05:54:40.323730Z",
     "start_time": "2025-02-16T05:54:40.297506Z"
    }
   },
   "outputs": [
    {
     "name": "stdout",
     "output_type": "stream",
     "text": [
      "{'section_1': '蘋果', 'section_2': ['牛肉', '雞肉', '羊肉']}\n"
     ]
    },
    {
     "ename": "NameError",
     "evalue": "name 'supermarket' is not defined",
     "output_type": "error",
     "traceback": [
      "\u001B[1;31m---------------------------------------------------------------------------\u001B[0m",
      "\u001B[1;31mNameError\u001B[0m                                 Traceback (most recent call last)",
      "Cell \u001B[1;32mIn[57], line 8\u001B[0m\n\u001B[0;32m      5\u001B[0m \u001B[38;5;28mprint\u001B[39m(supermarket)\n\u001B[0;32m      7\u001B[0m \u001B[38;5;28;01mdel\u001B[39;00m supermarket\n\u001B[1;32m----> 8\u001B[0m \u001B[38;5;28mprint\u001B[39m(\u001B[43msupermarket\u001B[49m)\n\u001B[0;32m      9\u001B[0m \u001B[38;5;66;03m#出錯是因為 supermarket已經被我們從記憶體刪除了，所以無法再將他print出來，從而顯示 NameError: name 'supermarket' is not defined\u001B[39;00m\n",
      "\u001B[1;31mNameError\u001B[0m: name 'supermarket' is not defined"
     ]
    }
   ],
   "source": [
    "#方法一\n",
    "#超市為例，第一區賣蘋果，第二區賣三種肉\n",
    "supermarket = dict(section_1 = '蘋果', section_2 = ['牛肉', '雞肉', '羊肉'], Number_of_visitors = 150)\n",
    "del supermarket['Number_of_visitors']\n",
    "print(supermarket)\n",
    "\n",
    "del supermarket\n",
    "print(supermarket)\n",
    "#出錯是因為 supermarket已經被我們從記憶體刪除了，所以無法再將他print出來，從而顯示 NameError: name 'supermarket' is not defined"
   ]
  },
  {
   "cell_type": "code",
   "execution_count": 58,
   "id": "bee8c27bd9bbd9cd",
   "metadata": {
    "ExecuteTime": {
     "end_time": "2025-02-16T05:54:43.219756Z",
     "start_time": "2025-02-16T05:54:43.215755Z"
    }
   },
   "outputs": [
    {
     "name": "stdout",
     "output_type": "stream",
     "text": [
      "{'section_1': '蘋果', 'section_2': ['牛肉', '雞肉', '羊肉']}\n",
      "150\n"
     ]
    }
   ],
   "source": [
    "#方法二\n",
    "#超市為例，第一區賣蘋果，第二區賣三種肉\n",
    "supermarket = dict(section_1 = '蘋果', section_2 = ['牛肉', '雞肉', '羊肉'], Number_of_visitors = 150)\n",
    "List_of_Number_of_visitors = supermarket.pop('Number_of_visitors')\n",
    "print(supermarket)\n",
    "print(List_of_Number_of_visitors)"
   ]
  },
  {
   "cell_type": "code",
   "execution_count": 59,
   "id": "b800f21119e3f7f8",
   "metadata": {
    "ExecuteTime": {
     "end_time": "2025-02-16T05:54:44.102388Z",
     "start_time": "2025-02-16T05:54:44.098068Z"
    }
   },
   "outputs": [
    {
     "name": "stdout",
     "output_type": "stream",
     "text": [
      "{}\n"
     ]
    }
   ],
   "source": [
    "#方法三\n",
    "#超市為例，第一區賣蘋果，第二區賣三種肉\n",
    "supermarket = dict(section_1 = '蘋果', section_2 = ['牛肉', '雞肉', '羊肉'], Number_of_visitors = 150)\n",
    "supermarket.clear()\n",
    "print(supermarket)"
   ]
  },
  {
   "cell_type": "markdown",
   "id": "27ea9febbf512e88",
   "metadata": {},
   "source": [
    "### 合併字典\n",
    "1. ```**``` dictionary_name，再透過 ```{ }```來組合，就可以將複數個字典合併在一起，變成一個<font color=#FF0000>新字典</font>， 當 ```Key``` 名稱重複，後面出現的將會覆蓋掉前面的\n",
    "2. ```update()```，將b字典合併到a字典，當 ```Key``` 名稱重複，一樣後面(b)出現的將會覆蓋掉前面的(a)"
   ]
  },
  {
   "cell_type": "code",
   "execution_count": 66,
   "id": "690a5e9c2a11e5fe",
   "metadata": {
    "ExecuteTime": {
     "end_time": "2025-02-16T06:10:45.921198Z",
     "start_time": "2025-02-16T06:10:45.907291Z"
    }
   },
   "outputs": [
    {
     "name": "stdout",
     "output_type": "stream",
     "text": [
      "{'section_1': '鳳梨', 'section_2': ['牛肉', '羊肉'], 'section_3': ['樂事', '多力多滋', '奇多'], 'Number_of_visitors': 10}\n"
     ]
    }
   ],
   "source": [
    "#方法一\n",
    "#以兩間超市為例，將a與b合併為c\n",
    "supermarket_a = dict(section_1 = '蘋果', section_2 = ['牛肉', '雞肉', '羊肉'], section_3 = ['樂事', '多力多滋', '奇多'], Number_of_visitors = 150)\n",
    "supermarket_b = dict(section_1 = '鳳梨', section_2 = ['牛肉', '羊肉'], Number_of_visitors = 10)\n",
    "supermarket_c = {**supermarket_a, **supermarket_b}\n",
    "#supermarket_b這將會覆蓋掉與supermarket_a相同Key的Value\n",
    "print(supermarket_c)"
   ]
  },
  {
   "cell_type": "code",
   "execution_count": 67,
   "id": "fe0141d9b7ac0f03",
   "metadata": {
    "ExecuteTime": {
     "end_time": "2025-02-16T06:11:37.072095Z",
     "start_time": "2025-02-16T06:11:37.056001Z"
    }
   },
   "outputs": [
    {
     "name": "stdout",
     "output_type": "stream",
     "text": [
      "{'section_1': '鳳梨', 'section_2': ['牛肉', '羊肉'], 'section_3': ['樂事', '多力多滋', '奇多'], 'Number_of_visitors': 10}\n"
     ]
    }
   ],
   "source": [
    "#方法二\n",
    "#以兩間超市為例\n",
    "supermarket_a = dict(section_1 = '蘋果', section_2 = ['牛肉', '雞肉', '羊肉'], section_3 = ['樂事', '多力多滋', '奇多'], Number_of_visitors = 150)\n",
    "supermarket_b = dict(section_1 = '鳳梨', section_2 = ['牛肉', '羊肉'], Number_of_visitors = 10)\n",
    "supermarket_a.update(supermarket_b)\n",
    "print(supermarket_a)"
   ]
  },
  {
   "cell_type": "markdown",
   "id": "beb6ba828b19ea15",
   "metadata": {},
   "source": [
    "### 取得字典中的所有的 ```Key``` 或所有的 ```Value```\n",
    "可以利用 ```.keys()``` 和 ```.values()``` 來達成"
   ]
  },
  {
   "cell_type": "code",
   "execution_count": 76,
   "id": "e100708701b28b6d",
   "metadata": {
    "ExecuteTime": {
     "end_time": "2025-02-16T06:34:29.243366Z",
     "start_time": "2025-02-16T06:34:29.218174Z"
    }
   },
   "outputs": [
    {
     "name": "stdout",
     "output_type": "stream",
     "text": [
      "dict_keys(['section_1', 'section_2', 'section_3']) , 型別: <class 'dict_keys'>\n",
      "['section_1', 'section_2', 'section_3'] \n",
      "-------------------\n",
      "dict_values(['蘋果', ['牛肉', '雞肉', '羊肉'], ['樂事', '多力多滋', '奇多']]) , 型別: <class 'dict_values'>\n",
      "['蘋果', ['牛肉', '雞肉', '羊肉'], ['樂事', '多力多滋', '奇多']]\n"
     ]
    }
   ],
   "source": [
    "#以超市為例\n",
    "supermarket = dict(section_1 = '蘋果', section_2 = ['牛肉', '雞肉', '羊肉'], section_3 = ['樂事', '多力多滋', '奇多'])\n",
    "#取得Key\n",
    "#在這裡代表就是可以知道所有的Section名稱\n",
    "supermarket_sections = supermarket.keys()\n",
    "print(supermarket_sections, f', 型別: {type(supermarket_sections)}')\n",
    "#可以轉為list或tuple來去做運用\n",
    "print(list(supermarket_sections), '\\n-------------------')\n",
    "\n",
    "#取得Value\n",
    "#在這裡代表就是可以知道所有的貨架上的所有品項\n",
    "supermarket_items = supermarket.values()\n",
    "print(supermarket_items, f', 型別: {type(supermarket_items)}')\n",
    "#可以轉為list或tuple來去做運用\n",
    "print(list(supermarket_items))"
   ]
  },
  {
   "cell_type": "markdown",
   "id": "2e6c1a72b178711f",
   "metadata": {},
   "source": [
    "### in檢查字典中的 ```Key```\n",
    "存在就回傳 ```True``` ，不存在回傳 ```False```"
   ]
  },
  {
   "cell_type": "code",
   "execution_count": 79,
   "id": "38027e996b7206fe",
   "metadata": {
    "ExecuteTime": {
     "end_time": "2025-02-16T06:38:41.825572Z",
     "start_time": "2025-02-16T06:38:41.812427Z"
    }
   },
   "outputs": [
    {
     "name": "stdout",
     "output_type": "stream",
     "text": [
      "Section_1 是否再 supermarket 中存在 : True\n",
      "Section_4 是否再 supermarket 中存在 : False\n"
     ]
    }
   ],
   "source": [
    "#以超市為例\n",
    "supermarket = dict(section_1 = '蘋果', section_2 = ['牛肉', '雞肉', '羊肉'], section_3 = ['樂事', '多力多滋', '奇多'])\n",
    "print('Section_1 是否再 supermarket 中存在 :', 'section_1' in supermarket)\n",
    "print('Section_4 是否再 supermarket 中存在 :', 'section_4' in supermarket)"
   ]
  },
  {
   "cell_type": "markdown",
   "id": "5cb0b07d839505f4",
   "metadata": {},
   "source": [
    "### 複製字典\n",
    "1. ```copy()``` ，當 a 被 b 複製，複製後當 a 的 ```Value```是 list 且發生異動， b 也會受到影響，適合**不會有異動的**資料使用\n",
    "2. ```deepcopy()``` ， 當 a 被 b 複製，複製後當 a 發生異動， b **不會**受到影響\n",
    "|    方法    |      影響不可變對象 (int, str)       |      影響可變對象 (list, dict)       |\n",
    "|:--------:|:----------------:|:---------------:|\n",
    "|   copy()   |       不受影響        |       會受影響        |\n",
    "|    deepcopy()    | \t不受影響  | 不受影響  |\n"
   ]
  },
  {
   "cell_type": "code",
   "execution_count": 85,
   "id": "5d0b36f93ca3707d",
   "metadata": {
    "ExecuteTime": {
     "end_time": "2025-02-16T06:59:30.208526Z",
     "start_time": "2025-02-16T06:59:30.200514Z"
    }
   },
   "outputs": [
    {
     "name": "stdout",
     "output_type": "stream",
     "text": [
      "{'section_1': '蘋果', 'section_2': ['牛肉', '雞肉', '羊肉'], 'section_3': ['樂事', '多力多滋', '奇多']}\n",
      "{'section_1': '蘋果', 'section_2': ['牛肉', '雞肉', '羊肉'], 'section_3': ['樂事', '多力多滋', '奇多']} \n",
      "-------------------\n",
      "{'section_1': '蘋果', 'section_2': ['牛肉', '雞肉', '羊肉', '豬肉'], 'section_3': ['樂事', '多力多滋', '奇多']}\n",
      "{'section_1': '蘋果', 'section_2': ['牛肉', '雞肉', '羊肉', '豬肉'], 'section_3': ['樂事', '多力多滋', '奇多']}\n"
     ]
    }
   ],
   "source": [
    "#方法一\n",
    "supermarket = dict(section_1 = '蘋果', section_2 = ['牛肉', '雞肉', '羊肉'], section_3 = ['樂事', '多力多滋', '奇多'])\n",
    "#要開一間一模一樣的超市分店\n",
    "supermarket_copy = supermarket.copy()\n",
    "print(supermarket)\n",
    "print(supermarket_copy, '\\n-------------------')\n",
    "\n",
    "#當改變的是list時，list是共用記憶體，所以當原本的改變了，copy的也會受到影響(大概理解就好，詳細原理不贅述)\n",
    "supermarket['section_2'].append('豬肉')\n",
    "print(supermarket)\n",
    "print(supermarket_copy)"
   ]
  },
  {
   "cell_type": "code",
   "execution_count": 87,
   "id": "6e7f4507d5af394f",
   "metadata": {
    "ExecuteTime": {
     "end_time": "2025-02-16T07:06:39.003405Z",
     "start_time": "2025-02-16T07:06:38.995877Z"
    }
   },
   "outputs": [
    {
     "name": "stdout",
     "output_type": "stream",
     "text": [
      "{'section_1': '蘋果', 'section_2': ['牛肉', '雞肉', '羊肉'], 'section_3': ['樂事', '多力多滋', '奇多']}\n",
      "{'section_1': '蘋果', 'section_2': ['牛肉', '雞肉', '羊肉'], 'section_3': ['樂事', '多力多滋', '奇多']} \n",
      "-------------------\n",
      "{'section_1': '蘋果', 'section_2': ['牛肉', '雞肉', '羊肉', '豬肉'], 'section_3': ['樂事', '多力多滋', '奇多']}\n",
      "{'section_1': '蘋果', 'section_2': ['牛肉', '雞肉', '羊肉'], 'section_3': ['樂事', '多力多滋', '奇多']}\n"
     ]
    }
   ],
   "source": [
    "#方法二\n",
    "supermarket = dict(section_1 = '蘋果', section_2 = ['牛肉', '雞肉', '羊肉'], section_3 = ['樂事', '多力多滋', '奇多'])\n",
    "\n",
    "import copy\n",
    "supermarket_copy = copy.deepcopy(supermarket)\n",
    "print(supermarket)\n",
    "print(supermarket_copy, '\\n-------------------')\n",
    "\n",
    "#當改變的是list時，這邊使用的deep copy，複製出來的supermarket完全獨立，所以當原本的改變了，deep copy的不會受到影響\n",
    "supermarket['section_2'].append('豬肉')\n",
    "print(supermarket)\n",
    "print(supermarket_copy)"
   ]
  },
  {
   "metadata": {},
   "cell_type": "markdown",
   "source": [
    "### Set 集合\n",
    "集合是由數字、字串和布林值組成，在一個集合之中可以存在不同類型的資料，而建立集合有兩種方式</br>\n",
    "1. ```set()```\n",
    "2. ```{value}``` 如果不放值會被宣告為字典"
   ],
   "id": "801599dc403f7bba"
  },
  {
   "metadata": {
    "ExecuteTime": {
     "end_time": "2025-02-17T13:22:37.655454Z",
     "start_time": "2025-02-17T13:22:37.649290Z"
    }
   },
   "cell_type": "code",
   "source": [
    "#方法一\n",
    "a = set() #宣告一個空集合\n",
    "b = set([1,1,2,3])\n",
    "c = set({'section_0': 'apple', 'section_1': [4, 5, 6], 'number': 10})\n",
    "d = set('BAC')\n",
    "\n",
    "print(type(a))\n",
    "print(b)    #只會留下不重複的部分\n",
    "print(c)    #只會保留key的部分\n",
    "print(d)    #會將每個字元分開"
   ],
   "id": "cf5ae1643840636f",
   "outputs": [
    {
     "name": "stdout",
     "output_type": "stream",
     "text": [
      "<class 'set'>\n",
      "{1, 2, 3}\n",
      "{'number', 'section_1', 'section_0'}\n",
      "{'B', 'C', 'A'}\n"
     ]
    }
   ],
   "execution_count": 2
  },
  {
   "metadata": {},
   "cell_type": "code",
   "outputs": [],
   "execution_count": null,
   "source": [
    "#方法二\n",
    "a = {1, 2, 'B', True, False}    \n",
    "print(a)    # True為1，這與集合中的數字1重複，所以True沒有被保留下來，False被留下是因為False等同於0\n"
   ],
   "id": "73fb5f0df0bd1d67"
  },
  {
   "metadata": {},
   "cell_type": "markdown",
   "source": [
    "### 新增與刪除集合中的值\n",
    "- 新增\n",
    "    1. ```.add(Value)```\n",
    "- 刪除\n",
    "    1. ```remove(Value)```\n",
    "    2. ```discard(Value)```    "
   ],
   "id": "4530eda7aa06179f"
  },
  {
   "metadata": {
    "ExecuteTime": {
     "end_time": "2025-02-17T13:49:53.786551Z",
     "start_time": "2025-02-17T13:49:53.775881Z"
    }
   },
   "cell_type": "code",
   "source": [
    "#新增\n",
    "a = {1, 2, 'B', True, False}    \n",
    "a.add(3)\n",
    "print(a)"
   ],
   "id": "dae043bd7212d4ba",
   "outputs": [
    {
     "name": "stdout",
     "output_type": "stream",
     "text": [
      "{False, 1, 2, 3, 'B'}\n"
     ]
    }
   ],
   "execution_count": 4
  },
  {
   "metadata": {
    "ExecuteTime": {
     "end_time": "2025-02-17T13:50:28.727425Z",
     "start_time": "2025-02-17T13:50:28.711364Z"
    }
   },
   "cell_type": "code",
   "source": [
    "#刪除\n",
    "#方法一\n",
    "a = {1, 2, 'B', True, False}    \n",
    "a.remove(1)\n",
    "print(a)"
   ],
   "id": "33b37befb03d7905",
   "outputs": [
    {
     "name": "stdout",
     "output_type": "stream",
     "text": [
      "{'B', 2, False}\n"
     ]
    }
   ],
   "execution_count": 5
  },
  {
   "metadata": {
    "ExecuteTime": {
     "end_time": "2025-02-17T13:52:09.639971Z",
     "start_time": "2025-02-17T13:52:09.628428Z"
    }
   },
   "cell_type": "code",
   "source": [
    "#刪除\n",
    "#方法二\n",
    "a = {1, 2, 'B', True, False}    \n",
    "a.discard(1)\n",
    "a.discard(3) #3不存在在集合之中，如果使用remove會出錯，但使用discard就不會報錯\n",
    "print(a)"
   ],
   "id": "876db7fece2c45a",
   "outputs": [
    {
     "name": "stdout",
     "output_type": "stream",
     "text": [
      "{'B', 2, False}\n"
     ]
    }
   ],
   "execution_count": 6
  },
  {
   "metadata": {},
   "cell_type": "markdown",
   "source": [
    "### 取得長度與檢察是否存在\n",
    "- ```len()```取得長度\n",
    "- ```in```判斷是否再集合之中"
   ],
   "id": "18857d1a4da1eadb"
  },
  {
   "metadata": {
    "ExecuteTime": {
     "end_time": "2025-02-17T13:58:27.528967Z",
     "start_time": "2025-02-17T13:58:27.519386Z"
    }
   },
   "cell_type": "code",
   "source": [
    "a = {'a','b','c','d',1,2,3}\n",
    "#檢查長度\n",
    "print('set a 的長度為 :', len(a), '\\n-----------')\n",
    "\n",
    "#檢查是否存在\n",
    "print('1 是否存在於 set a 中 :', 1 in a)\n",
    "print('777 是否存在於 set a 中 :', 777 in a, '\\n-----------')\n",
    "#檢查是否不存在\n",
    "print('1 是否不存在於 set a 中 :', 1 not in a)\n",
    "print('777 是否不存在於 set a 中 :', 777 not in a)"
   ],
   "id": "a33fba25cbe2e64b",
   "outputs": [
    {
     "name": "stdout",
     "output_type": "stream",
     "text": [
      "set a 的長度為 : 7 \n",
      "-----------\n",
      "1 是否存在於 set a 中 : True\n",
      "777 是否存在於 set a 中 : False \n",
      "-----------\n",
      "1 是否不存在於 set a 中 : False\n",
      "777 是否存在於 set a 中 : True\n"
     ]
    }
   ],
   "execution_count": 12
  },
  {
   "metadata": {},
   "cell_type": "markdown",
   "source": [
    "### 交集、聯集、差集、對稱差集\n",
    "|    集合    |      方法      |      運算子       |     情況     |\n",
    "|:--------:|:----------------:|:---------------:|:----------:|\n",
    "|  交集  |       a.intersection(b)       |       a&b       | A與B集合的共有項目 |\n",
    "|    聯集    | \ta.union(b)  | a｜b  |A與B集合的所有項目 |\n",
    "|    差集    | \ta.difference(b)  | a-b  |A 集合扣掉 A B 集合的共有項目 |\n",
    "|    對稱差集    | \ta.symmetric_difference(b)  | a^b  |A與B集合的獨有項目 |\n"
   ],
   "id": "75e6d29083a40434"
  },
  {
   "metadata": {
    "ExecuteTime": {
     "end_time": "2025-02-17T14:04:38.388853Z",
     "start_time": "2025-02-17T14:04:38.357390Z"
    }
   },
   "cell_type": "code",
   "source": [
    "a = {1,2,3,4,5}\n",
    "b = {3,4,5,6,7}\n",
    "\n",
    "# a交集b\n",
    "print(a.intersection(b))   \n",
    "print(a&b, '\\n-----------')                 \n",
    "\n",
    "# a聯集b\n",
    "print(a.union(b))          \n",
    "print(a|b, '\\n-----------')                 \n",
    "\n",
    "# a差集b\n",
    "print(a.difference(b))     \n",
    "print(a-b, '\\n-----------') \n",
    "\n",
    "# a對稱差集b\n",
    "print(a.symmetric_difference(b))  \n",
    "print(a^b)   "
   ],
   "id": "23ba5d3b0bd29440",
   "outputs": [
    {
     "name": "stdout",
     "output_type": "stream",
     "text": [
      "{3, 4, 5}\n",
      "{3, 4, 5} \n",
      "-----------\n",
      "{1, 2, 3, 4, 5, 6, 7}\n",
      "{1, 2, 3, 4, 5, 6, 7} \n",
      "-----------\n",
      "{1, 2}\n",
      "{1, 2} \n",
      "-----------\n",
      "{1, 2, 6, 7}\n",
      "{1, 2, 6, 7}\n"
     ]
    }
   ],
   "execution_count": 15
  },
  {
   "metadata": {},
   "cell_type": "markdown",
   "source": [
    "### 子集合與超集合\n",
    "- 子集合 (sebset) ： 若 A 集合的所有項目是 B 集合的部分集合, 則稱 A 為 B 的子集合\n",
    "- 超集合 (superset) ： 若 A 集合的所有項目是 B 集合的部分集合, 則稱 B 為 A 的超集合\n",
    "|    集合      |     說明     |\n",
    "|:--------:|:----------:|\n",
    "|    超集合      |     A 完全包含 B，A 和 B 所包含的元素可能完全相同     |\n",
    "|    真超集合      |     A 完全包含 B，且具有 B 沒有的的元素     |\n",
    "|    子集合      |     B 完全被 A 包含，A 和 B 所包含的元素可能完全相同     |\n",
    "|    真子集合      |     B 完全被 A 包含，且 A 具有 B 沒有的的元素     |\n",
    "\n",
    "可以使用```>, < ,=```來判斷，也可以使用```b.issubset(a)```檢測 b 是否為 a 的子集合，還有```a.issuperset(b)```檢測 a 是否為 b 的超集合"
   ],
   "id": "68d100632257f324"
  },
  {
   "metadata": {
    "ExecuteTime": {
     "end_time": "2025-02-17T14:11:33.515349Z",
     "start_time": "2025-02-17T14:11:33.483368Z"
    }
   },
   "cell_type": "code",
   "source": [
    "a = {1,2,3,4,5,6,7}\n",
    "b = {3,4,5,6,7}\n",
    "c = {1,2,3,4,5,6,7}\n",
    "d = {6,7,8,9}\n",
    "\n",
    "print(a<=a)   # True 自己是自己的子集合\n",
    "print(b<=a)   # True b 是 a 的子集合\n",
    "print(b<a)    # True b 也是 a 的真子集合 ( 因爲沒有等於，完全包含 )\n",
    "print(c<=a)   # True c 是 a 的子集合\n",
    "print(a<=c)   # True a 也是 c 的子集合\n",
    "print(d<a)    # False d 和 a 沒有子集合或超集合關係"
   ],
   "id": "1ec3585448d433bd",
   "outputs": [
    {
     "name": "stdout",
     "output_type": "stream",
     "text": [
      "True\n",
      "True\n",
      "True\n",
      "True\n",
      "True\n",
      "False\n"
     ]
    }
   ],
   "execution_count": 17
  },
  {
   "metadata": {},
   "cell_type": "code",
   "outputs": [],
   "execution_count": null,
   "source": [
    "a = {1,2,3,4,5,6,7}\n",
    "b = {3,4,5,6,7}\n",
    "c = {1,2,3,4,5,6,7}\n",
    "d = {6,7,8,9}\n",
    "\n",
    "print(b.issubset(a))     # True b 是 a 的子集合\n",
    "print(a.issuperset(b))   # True a 是 b 的超集合\n",
    "print(c.issubset(a))     # True c 是 a 的子集合\n",
    "print(d.issubset(a))     # Fasle d 不是 a 的子集合"
   ],
   "id": "ca57001dc9c6fe64"
  }
 ],
 "metadata": {
  "kernelspec": {
   "display_name": "Python 3 (ipykernel)",
   "language": "python",
   "name": "python3"
  },
  "language_info": {
   "codemirror_mode": {
    "name": "ipython",
    "version": 3
   },
   "file_extension": ".py",
   "mimetype": "text/x-python",
   "name": "python",
   "nbconvert_exporter": "python",
   "pygments_lexer": "ipython3",
   "version": "3.9.13"
  }
 },
 "nbformat": 4,
 "nbformat_minor": 5
}
