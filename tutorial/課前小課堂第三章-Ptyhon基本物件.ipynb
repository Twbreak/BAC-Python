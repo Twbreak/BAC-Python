{
 "cells": [
  {
   "metadata": {},
   "cell_type": "markdown",
   "source": [
    "## Python基本物件\n",
    "這章節將進一步解釋以下四者\n",
    "- list : [ ]\n",
    "- tuple : ( )\n",
    "- set : { }\n",
    "- dict : { }"
   ],
   "id": "249a3b2bbe3e97a9"
  },
  {
   "cell_type": "code",
   "id": "initial_id",
   "metadata": {
    "collapsed": true,
    "ExecuteTime": {
     "end_time": "2024-11-10T08:35:00.474950Z",
     "start_time": "2024-11-10T08:35:00.458538Z"
    }
   },
   "source": [
    "#開始前記得先run這個cell\n",
    "# -*- coding: utf-8 -*-\n",
    "from platform import python_version\n",
    "\n",
    "print(\"Python version: {}\".format(python_version()))\n",
    "%autosave 120"
   ],
   "outputs": [
    {
     "name": "stdout",
     "output_type": "stream",
     "text": [
      "Python version: 3.9.5\n"
     ]
    },
    {
     "data": {
      "application/javascript": "IPython.notebook.set_autosave_interval(120000)"
     },
     "metadata": {},
     "output_type": "display_data"
    },
    {
     "name": "stdout",
     "output_type": "stream",
     "text": [
      "Autosaving every 120 seconds\n"
     ]
    }
   ],
   "execution_count": 1
  },
  {
   "metadata": {},
   "cell_type": "markdown",
   "source": [
    "## List 列表\n",
    "---\n",
    "list 是一種可以儲存多個資料的容器，這些資料可以是任何型別，例如整數、字串、浮點數、布林值，甚至是其他列表"
   ],
   "id": "561a5598bc810109"
  },
  {
   "metadata": {},
   "cell_type": "code",
   "outputs": [],
   "execution_count": null,
   "source": [
    "# 一般的list\n",
    "my_list = [1, 2, 3, 4, 5]\n",
    "\n",
    "# list包含不同類型的資料\n",
    "mixed_list = [1, \"Hello\", 3.14, True, [1,2,3]]"
   ],
   "id": "e1d8242bf71709c3"
  },
  {
   "metadata": {},
   "cell_type": "markdown",
   "source": [
    "### 存取列表中的元素\n",
    "列表中的每個元素都有一個編號，稱為「索引」（index)，Python 的索引 **<font color=#FF0000>從 0 開始</font>** (非常重要)<br>\n",
    "- 正索引從 0 開始\n",
    "- 負索引從 -1 開始"
   ],
   "id": "8b361fd2b7b8ecec"
  },
  {
   "metadata": {
    "ExecuteTime": {
     "end_time": "2025-01-17T13:16:33.950318Z",
     "start_time": "2025-01-17T13:16:33.932292Z"
    }
   },
   "cell_type": "code",
   "source": [
    "# 今天我有三種水果在桌上，有兩個水果被放在另一個籃子中\n",
    "fruits = [\"apple\", \"banana\", \"cherry\", [\"watermelon\", \"orange\"]]\n",
    "\n",
    "# 取得桌上第一個水果會是apple\n",
    "print(fruits[0])  \n",
    "\n",
    "# 取得桌上第二個水果會是banana\n",
    "print(fruits[1])  \n",
    "\n",
    "# 取得桌上倒數第二個水果會是cherry\n",
    "print(fruits[-2])\n",
    "\n",
    "# 取得籃子中第一個水果會是watermelon\n",
    "# 如果 list 中有 list ，那就就構成了「多維列表」\n",
    "# 讀取元素時如果有第二層，就就在原先的中括號後面多一個中括號，這就能讀取第二層的元素\n",
    "print(fruits[3][0])  "
   ],
   "id": "cc71c62eec764806",
   "outputs": [
    {
     "name": "stdout",
     "output_type": "stream",
     "text": [
      "apple\n",
      "banana\n",
      "cherry\n",
      "watermelon\n"
     ]
    }
   ],
   "execution_count": 24
  },
  {
   "metadata": {},
   "cell_type": "markdown",
   "source": [
    "### 取出列表範圍中的元素\n",
    "1.```slice()``` 函式可以取出 list 中某個範圍的元素，也可以使在中括號裡加上冒號```:```來指定範圍<br>\n",
    "    ```[頭:尾]``` 口絕 : 取頭不取尾<br>\n",
    "2. 使用兩個冒號```[::]```，表示要**間隔幾個項目**取值"
   ],
   "id": "aa1c624ba3553b31"
  },
  {
   "metadata": {
    "ExecuteTime": {
     "end_time": "2025-01-17T13:20:56.478630Z",
     "start_time": "2025-01-17T13:20:56.459611Z"
    }
   },
   "cell_type": "code",
   "source": [
    "# 1. slice\n",
    "a = [0,1,2,3,4,5,6,7,8,9]\n",
    "b = a[:3] # 取範圍0到2\n",
    "c = a[3:] # 取範圍從3開始到最後\n",
    "d = a[1:3] # 取第1到3之前(不含3)\n",
    "e = a[-5:-2] # 取-5到-2(不含-2)\n",
    "print(b)   \n",
    "print(c)   \n",
    "print(d)   \n",
    "print(e)   "
   ],
   "id": "4032642928c53890",
   "outputs": [
    {
     "name": "stdout",
     "output_type": "stream",
     "text": [
      "[0, 1, 2]\n",
      "[3, 4, 5, 6, 7, 8, 9]\n",
      "[1, 2]\n",
      "[5, 6, 7]\n"
     ]
    }
   ],
   "execution_count": 25
  },
  {
   "metadata": {
    "ExecuteTime": {
     "end_time": "2025-01-17T13:29:16.826097Z",
     "start_time": "2025-01-17T13:29:16.807162Z"
    }
   },
   "cell_type": "code",
   "source": [
    "# 2. 表示間隔幾個項目取值\n",
    "a = [0,1,2,3,4,5,6,7,8,9]\n",
    "b = a[::3] # 每隔三項目取值\n",
    "c = a[3::2] # 從第三個項目開始，每隔兩項目取值\n",
    "d = a[::-1] # 反轉串列\n",
    "e = a[::-2] # 反轉串列，每隔兩個項目取值\n",
    "print(b)   \n",
    "print(c)   \n",
    "print(d)   \n",
    "print(e)   "
   ],
   "id": "1eb6a79bc52f5064",
   "outputs": [
    {
     "name": "stdout",
     "output_type": "stream",
     "text": [
      "[0, 3, 6, 9]\n",
      "[3, 5, 7, 9]\n",
      "[9, 8, 7, 6, 5, 4, 3, 2, 1, 0]\n",
      "[9, 7, 5, 3, 1]\n"
     ]
    }
   ],
   "execution_count": 26
  },
  {
   "metadata": {},
   "cell_type": "markdown",
   "source": [
    "### 更改列表中的元素\n",
    "1. **修改**指定索引中的值\n",
    "2. **新增**元素到列表中\n",
    "3. **刪除**列表中我不要的元素\n",
    "4. **slice 範圍修改**索引中的值"
   ],
   "id": "32141c7e48a8407c"
  },
  {
   "metadata": {
    "ExecuteTime": {
     "end_time": "2025-01-17T12:22:56.574139Z",
     "start_time": "2025-01-17T12:22:56.566119Z"
    }
   },
   "cell_type": "code",
   "source": [
    "# 1. 修改\n",
    "# 今天我有三種水果\n",
    "fruits = [\"apple\", \"banana\", \"cherry\"]\n",
    "\n",
    "# 但第二個其實不是香蕉，而是橘子\n",
    "# 那就修改 list 中第\"1\"個值為橘子 \n",
    "fruits[1] = \"orange\"\n",
    "print(fruits)  # 輸出：['apple', 'orange', 'cherry']"
   ],
   "id": "8ba7db6fbc09dc44",
   "outputs": [
    {
     "name": "stdout",
     "output_type": "stream",
     "text": [
      "['apple', 'orange', 'cherry']\n"
     ]
    }
   ],
   "execution_count": 3
  },
  {
   "metadata": {
    "ExecuteTime": {
     "end_time": "2025-01-17T12:29:24.815918Z",
     "start_time": "2025-01-17T12:29:24.806610Z"
    }
   },
   "cell_type": "code",
   "source": [
    "# 2. 新增\n",
    "# 今天我有三種水果\n",
    "fruits = [\"apple\", \"banana\", \"cherry\"]\n",
    "\n",
    "#我阿嬤又給我一顆橘子\n",
    "#可以使用 append() 在列表末尾新增元素\n",
    "fruits.append(\"orange\")\n",
    "print(fruits) # 輸出：['apple', 'banana', 'cherry', 'orange']\n",
    "\n",
    "#也可以使用 insert() 將新元素新增在指定位置\n",
    "fruits.insert(1, \"watermelon\")\n",
    "print(fruits) # 輸出：['apple', 'watermelon', 'banana', 'cherry', 'orange']"
   ],
   "id": "931f898fb1595b74",
   "outputs": [
    {
     "name": "stdout",
     "output_type": "stream",
     "text": [
      "['apple', 'banana', 'cherry', 'orange']\n",
      "['apple', 'watermelon', 'banana', 'cherry', 'orange']\n"
     ]
    }
   ],
   "execution_count": 6
  },
  {
   "metadata": {
    "ExecuteTime": {
     "end_time": "2025-01-17T13:45:47.097964Z",
     "start_time": "2025-01-17T13:45:47.080101Z"
    }
   },
   "cell_type": "code",
   "source": [
    "# 3. 刪除\n",
    "# 今天我有五種水果\n",
    "fruits = ['apple', 'watermelon', 'banana', 'cherry', 'orange']\n",
    "\n",
    "#假如今天我把cherry吃掉了\n",
    "#可以使用 remove() 刪除指定的值\n",
    "fruits.remove(\"cherry\")\n",
    "print(fruits)  # 輸出： ['apple', 'watermelon', 'banana', 'orange']\n",
    "\n",
    "#假如今天我把 list 中第\"1\"個水果吃掉了\n",
    "#可以使用 pop() 刪除指定索引的值\n",
    "fruits.pop(1)\n",
    "print(fruits) # 輸出： ['apple', 'banana', 'orange']\n",
    "\n",
    "#也可以用 del 刪除指定索引的值\n",
    "del fruits[0]\n",
    "print(fruits) # 輸出： ['banana', 'orange']\n",
    "\n",
    "#可以用 clear() 清空整個list\n",
    "fruits.clear()\n",
    "print(fruits)"
   ],
   "id": "205b6976b0a98b83",
   "outputs": [
    {
     "name": "stdout",
     "output_type": "stream",
     "text": [
      "['apple', 'watermelon', 'banana', 'orange']\n",
      "['apple', 'banana', 'orange']\n",
      "['banana', 'orange']\n",
      "[]\n"
     ]
    }
   ],
   "execution_count": 30
  },
  {
   "metadata": {
    "ExecuteTime": {
     "end_time": "2025-01-17T13:44:24.211490Z",
     "start_time": "2025-01-17T13:44:24.200973Z"
    }
   },
   "cell_type": "code",
   "source": [
    "# 3. slice 範圍修改\n",
    "# 今天我有五種水果\n",
    "fruits = ['apple', 'watermelon', 'banana', 'cherry', 'orange'] \n",
    "# 我有拿了 watermelon, banana, cherry 三樣東西和姊姊換了三顆 strawberry\n",
    "fruits[1:4] = ['strawberry', 'strawberry', 'strawberry']\n",
    "print(fruits) # 輸出： ['apple', 'strawberry', 'strawberry', 'strawberry', 'orange']\n",
    "\n",
    "# 指定更換的項目的數量，不一定要和原本的一樣多 ( 可以比較少，也可以比較多 )，更換後會將範圍的內容，完全換成新的內容\n",
    "# 我有拿了三顆 strawberry(index 1,2,3 ) 和姊姊換了2顆 strawberry 和2顆 banana\n",
    "fruits[1:4] = ['strawberry', 'strawberry', 'banana', 'banana']\n",
    "print(fruits)\n",
    "\n",
    "# 更換的內容不一定要是串列，只要是可以「迭代」的內容都可以，字串或之後會提的元組都可以\n",
    "a = ['a','b','c','d','e']\n",
    "a[1:4] = 'hello'\n",
    "print(a)"
   ],
   "id": "b7626f7fdb792096",
   "outputs": [
    {
     "name": "stdout",
     "output_type": "stream",
     "text": [
      "['apple', 'strawberry', 'strawberry', 'strawberry', 'orange']\n",
      "['apple', 'strawberry', 'strawberry', 'banana', 'banana', 'orange']\n",
      "['a', 'h', 'e', 'l', 'l', 'o', 'e']\n"
     ]
    }
   ],
   "execution_count": 29
  },
  {
   "metadata": {},
   "cell_type": "markdown",
   "source": [
    "### 檢查元素是否在列表中\n",
    "使用```in```來搜尋關鍵字是否有在列表中<br>\n",
    "- 如果關鍵字<font color=#0000FF>存在</font>於 list 中，回傳 **TRUE**<br>\n",
    "- 如果關鍵字<font color=#0000FF>不存在</font>於 list 中，回傳 **FALSE**"
   ],
   "id": "975cd290d7f822d2"
  },
  {
   "metadata": {
    "ExecuteTime": {
     "end_time": "2025-01-17T12:41:32.927422Z",
     "start_time": "2025-01-17T12:41:32.911544Z"
    }
   },
   "cell_type": "code",
   "source": [
    "fruits = [\"apple\", \"banana\", \"cherry\"]\n",
    "\n",
    "#尋找 apple 是否有在 list 中\n",
    "print(\"apple\" in fruits)  # 輸出：True\n",
    "\n",
    "#尋找 watermelon 是否有在 list 中\n",
    "print(\"watermelon\" in fruits) # 輸出：False"
   ],
   "id": "5b881705e7d75fb",
   "outputs": [
    {
     "name": "stdout",
     "output_type": "stream",
     "text": [
      "True\n",
      "False\n"
     ]
    }
   ],
   "execution_count": 10
  },
  {
   "metadata": {},
   "cell_type": "markdown",
   "source": [
    "### 列表排序\n",
    "- 使用```sort()``` 進行排序（這會改變原列表）<br>\n",
    "- 使用```sorted()``` 進行排序（不改變原列表）"
   ],
   "id": "d94237344749d1c1"
  },
  {
   "metadata": {
    "ExecuteTime": {
     "end_time": "2025-01-17T12:43:41.124589Z",
     "start_time": "2025-01-17T12:43:41.112202Z"
    }
   },
   "cell_type": "code",
   "source": [
    "#使用 sort() 來做排序，使用後 list 的排序也會被更動\n",
    "numbers = [3, 1, 4, 1, 5]\n",
    "numbers.sort()\n",
    "print(numbers)  # 輸出：[1, 1, 3, 4, 5]"
   ],
   "id": "22d47ea44904751",
   "outputs": [
    {
     "name": "stdout",
     "output_type": "stream",
     "text": [
      "[1, 1, 3, 4, 5]\n"
     ]
    }
   ],
   "execution_count": 11
  },
  {
   "metadata": {
    "ExecuteTime": {
     "end_time": "2025-01-17T12:46:38.925933Z",
     "start_time": "2025-01-17T12:46:38.910905Z"
    }
   },
   "cell_type": "code",
   "source": [
    "#使用 sorted() 來做排序，使用後 list 的排序不會被更動，第二個輸出可以證明這點\n",
    "numbers = [3, 1, 4, 1, 5]\n",
    "sorted_numbers = sorted(numbers)\n",
    "print(sorted_numbers)  # 輸出：[1, 1, 3, 4, 5]\n",
    "print(numbers)         # 輸出：[3, 1, 4, 1, 5]"
   ],
   "id": "e1aacf7501b19f4d",
   "outputs": [
    {
     "name": "stdout",
     "output_type": "stream",
     "text": [
      "[1, 1, 3, 4, 5]\n",
      "[3, 1, 4, 1, 5]\n"
     ]
    }
   ],
   "execution_count": 13
  },
  {
   "metadata": {},
   "cell_type": "markdown",
   "source": [
    "### 遍歷列表\n",
    "使用```for```可以逐一訪問列表中的元素"
   ],
   "id": "558e93d75b9845e4"
  },
  {
   "metadata": {
    "ExecuteTime": {
     "end_time": "2025-01-17T12:48:42.351757Z",
     "start_time": "2025-01-17T12:48:42.337243Z"
    }
   },
   "cell_type": "code",
   "source": [
    "fruits = [\"apple\", \"banana\", \"cherry\"]\n",
    "\n",
    "for fruit in fruits:\n",
    "    print(fruit)\n",
    "# 輸出：\n",
    "# apple\n",
    "# banana\n",
    "# cherry"
   ],
   "id": "cf2ad9a26ca4b958",
   "outputs": [
    {
     "name": "stdout",
     "output_type": "stream",
     "text": [
      "apple\n",
      "banana\n",
      "cherry\n"
     ]
    }
   ],
   "execution_count": 14
  },
  {
   "metadata": {},
   "cell_type": "markdown",
   "source": [
    "### 合併列表\n",
    "兩個 ```list```  合併在一起，有兩種方法<br>\n",
    "- 使用 ```+``` 在 + 號右方的串列，會加在左方串列的後方\n",
    "- 使用 ```extend()``` 一個串列的後方，合併另外一個串列的內容"
   ],
   "id": "42ec3ea9ec8a0a45"
  },
  {
   "metadata": {
    "ExecuteTime": {
     "end_time": "2025-01-17T13:06:14.208887Z",
     "start_time": "2025-01-17T13:06:14.201838Z"
    }
   },
   "cell_type": "code",
   "source": [
    "# 使用 + 來合併\n",
    "# 我有三種水果，我阿嬤有兩種水果\n",
    "me = [\"apple\", \"banana\", \"cherry\"]\n",
    "grandma = [\"watermelon\", \"orange\"]\n",
    "#我們兩個合併在一起就是我們家所有的水果\n",
    "home = me + grandma\n",
    "print(home) # 輸出：['apple', 'banana', 'cherry', 'watermelon', 'orange']"
   ],
   "id": "e3d3988b7bf105f0",
   "outputs": [
    {
     "name": "stdout",
     "output_type": "stream",
     "text": [
      "['apple', 'banana', 'cherry', 'watermelon', 'orange']\n"
     ]
    }
   ],
   "execution_count": 17
  },
  {
   "metadata": {
    "ExecuteTime": {
     "end_time": "2025-01-17T13:12:58.983553Z",
     "start_time": "2025-01-17T13:12:58.971164Z"
    }
   },
   "cell_type": "code",
   "source": [
    "# 使用 extend() 來合併\n",
    "# 我有三種水果，我阿嬤有兩種水果\n",
    "me = [\"apple\", \"banana\", \"cherry\"]\n",
    "grandma = [\"watermelon\", \"orange\"]\n",
    "#我給阿嬤我所有的水果，我的水果被合併到阿嬤的list中\n",
    "grandma.extend(me)\n",
    "print(grandma)\n",
    "print(me)\n",
    "\n",
    "#需注意的extend會改變list，但不會回傳list的值\n",
    "#所以當寫成跟上面 home = me + grandma 會得到 None 的結果\n",
    "home = grandma.extend(me)\n",
    "print(home)"
   ],
   "id": "1328b2be997a426",
   "outputs": [
    {
     "name": "stdout",
     "output_type": "stream",
     "text": [
      "['watermelon', 'orange', 'apple', 'banana', 'cherry']\n",
      "['apple', 'banana', 'cherry']\n",
      "None\n"
     ]
    }
   ],
   "execution_count": 22
  },
  {
   "metadata": {},
   "cell_type": "markdown",
   "source": [
    "## Tuple 元組\n",
    "---\n",
    "元組是用來存放多個資料的有序集合，與列表一樣可以存放不同型別的資料，但元組的內容一旦建立就<font color=#FF0000>無法改變</font><br>\n",
    "元組使用小括號 ```()``` 定義，裡面的元素用逗號 ```,``` 分隔<br>\n",
    "\n",
    "|    特性    |      tuple       |      list       |\n",
    "|:--------:|:----------------:|:---------------:|\n",
    "|   可修改性   |       不可變        |       可變        |\n",
    "|    語法    | \t使用小括號 ```()```  | 使用方括號 ```[]```  |\n",
    "|   使用場景   |   適合保存不需要改變的資料   |   適合需要頻繁修改的資料   | \n",
    "\n",
    "單一元素的元組必須加上逗號``` ,```，否則會被視為普通的資料類型<br>\n",
    "tuple使用方法和list大致相同，下方就不贅述tuple使用方式"
   ],
   "id": "7ac2cc4e699c955d"
  },
  {
   "metadata": {
    "ExecuteTime": {
     "end_time": "2025-01-17T12:59:27.112806Z",
     "start_time": "2025-01-17T12:59:27.094805Z"
    }
   },
   "cell_type": "code",
   "source": [
    "# 建立一個元組\n",
    "my_tuple = (1, 2, 3)\n",
    "\n",
    "# 元組可以包含不同類型的資料\n",
    "mixed_tuple = (1, \"Hello\", 3.14, True, [1,2,3])\n",
    "\n",
    "#單一元素的元組必須加上逗號 ,，否則會被視為普通的資料類型\n",
    "single_element_tuple = (42,)  # 注意逗號\n",
    "not_a_tuple = (42)  # 這只是整數\n",
    "print(type(single_element_tuple))  # <class 'tuple'>\n",
    "print(type(not_a_tuple))  # <class 'int'>\n",
    "\n",
    "# 使用 tuple() 函數轉換成元組\n",
    "my_list = [1, 2, 3]\n",
    "my_tuple = tuple(my_list)\n",
    "print(my_tuple)  # 輸出：(1, 2, 3)\n",
    "\n",
    "# 強制修改tuple\n",
    "# 使用串列 list 存取 tuple 資料，修改資料後，再轉換為新的 tuple\n",
    "a = ('apple','banana','orange')\n",
    "b = list(a)\n",
    "b.append('grap')\n",
    "a = tuple(b)\n",
    "print(a) "
   ],
   "id": "a98252c99c5a2452",
   "outputs": [
    {
     "name": "stdout",
     "output_type": "stream",
     "text": [
      "<class 'tuple'>\n",
      "<class 'int'>\n",
      "(1, 2, 3)\n"
     ]
    }
   ],
   "execution_count": 16
  },
  {
   "metadata": {},
   "cell_type": "markdown",
   "source": [
    "## Dictionary 字典\n",
    "---\n",
    "字典可以放入字串、整數、浮點數、布林值、列表、tuple和字典，只要通過 <font color=#FF0000>Key</font> 就能查到對應的 <font color=#FF0000>Value</font> <br>\n",
    "\n",
    "\n"
   ],
   "id": "296c6512ffd5ce76"
  },
  {
   "metadata": {},
   "cell_type": "markdown",
   "source": [
    "### 建立字典\n",
    "Key 必須是\"字串\"，後必須加上\"引號\"，value 可以放各種資料型態，不同的 Key 要以 ```,```分開"
   ],
   "id": "8b28279eae839694"
  },
  {
   "metadata": {
    "ExecuteTime": {
     "end_time": "2025-02-13T08:32:35.828782Z",
     "start_time": "2025-02-13T08:32:35.812855Z"
    }
   },
   "cell_type": "code",
   "source": [
    "# dictionary_name = {'key' : value, 'key_1' : [value, value1, value2]}\n",
    "supermarket = {\"section_1\" : '蘋果', 'section_2' : ['牛肉', '豬肉', '羊肉'], 'Number_of _visitors' : 50 }\n",
    "print(supermarket)\n",
    "print(type(supermarket))"
   ],
   "id": "768691ac88d9da4f",
   "outputs": [
    {
     "name": "stdout",
     "output_type": "stream",
     "text": [
      "{'section_1': '蘋果', 'section_2': ['牛肉', '豬肉', '羊肉'], 'Number_of _visitors': 50}\n",
      "<class 'dict'>\n"
     ]
    }
   ],
   "execution_count": 13
  },
  {
   "metadata": {},
   "cell_type": "markdown",
   "source": [
    "建立字典也可以使用```dict()```來建立字典，並且有三中方式<br>\n",
    "1. ```dict(Key = Value)```\n",
    "    - Key 要遵守 Python 的命名規則，= 後方就一樣可以放入各種資料型態的 Value ，最後一樣要用 ```,```分隔不同的 Key \n",
    "2. 將兩個值的**二維 List** 或**二維 Tuple** 轉換為字典\n",
    "3. 雙字元的字串轉為字典\n"
   ],
   "id": "2e05bbc98eb77e4c"
  },
  {
   "metadata": {
    "ExecuteTime": {
     "end_time": "2025-02-13T08:32:42.190993Z",
     "start_time": "2025-02-13T08:32:42.176767Z"
    }
   },
   "cell_type": "code",
   "source": [
    "#第一種\n",
    "# dictionary_name = dict(Key = Value, Key_1 = [value, value1, value2])\n",
    "supermarket_1 = dict(section_1 = '蘋果', section_2 = ['牛肉', '豬肉', '羊肉'], Number_of_visitors = 100)\n",
    "print(type(supermarket_1))\n",
    "print(supermarket_1, '\\n-------------------')\n",
    "\n",
    "#第二種 (以list為範例)\n",
    "supermarket_list = [['section_1', '蘋果'], ['section_2', ['牛肉', '豬肉', '羊肉']], ['Number_of_visitors', 150]]\n",
    "supermarket_2 = dict(supermarket_list)\n",
    "print(type(supermarket_2))\n",
    "print(supermarket_2, '\\n-------------------')\n",
    "\n",
    "#第三種 \n",
    "a_list = ['ab','cd','ef','gh']\n",
    "a_dict = dict(a_list)\n",
    "print(type(a_dict))\n",
    "print(a_dict)"
   ],
   "id": "2eb1c5ce6c79d113",
   "outputs": [
    {
     "name": "stdout",
     "output_type": "stream",
     "text": [
      "<class 'dict'>\n",
      "{'section_1': '蘋果', 'section_2': ['牛肉', '豬肉', '羊肉'], 'Number_of_visitors': 100} \n",
      "-------------------\n",
      "<class 'dict'>\n",
      "{'section_1': '蘋果', 'section_2': ['牛肉', '豬肉', '羊肉'], 'Number_of_visitors': 150} \n",
      "-------------------\n",
      "<class 'dict'>\n",
      "{'a': 'b', 'c': 'd', 'e': 'f', 'g': 'h'}\n"
     ]
    }
   ],
   "execution_count": 14
  },
  {
   "metadata": {},
   "cell_type": "markdown",
   "source": [
    "### 讀取字典\n",
    "決定好 Key 就可以讀取對應的 Value"
   ],
   "id": "5573f5f83142a172"
  },
  {
   "metadata": {
    "ExecuteTime": {
     "end_time": "2025-02-13T08:39:13.117464Z",
     "start_time": "2025-02-13T08:39:13.097437Z"
    }
   },
   "cell_type": "code",
   "source": [
    "#超市為例，第一區賣蘋果，第二區賣三種肉\n",
    "supermarket_1 = dict(section_1 = '蘋果', section_2 = ['牛肉', '豬肉', '羊肉'], Number_of_visitors = 100)\n",
    "#今天想知道第二區在賣甚麼，可以透過supermarket_1['section_2']來得知\n",
    "section1_info = supermarket_1['section_2']\n",
    "print(section1_info)\n",
    "print(type(section1_info), '\\n-------------------')\n",
    "\n",
    "#今天想知道第二區的第一格在賣甚麼，可以透過supermarket_1['section_2'][0]來得知\n",
    "section1_info_first = supermarket_1['section_2'][0]\n",
    "print(section1_info_first)\n",
    "print(type(section1_info_first), '\\n-------------------')"
   ],
   "id": "e13ccbe550d55101",
   "outputs": [
    {
     "name": "stdout",
     "output_type": "stream",
     "text": [
      "['牛肉', '豬肉', '羊肉']\n",
      "<class 'list'> \n",
      "-------------------\n",
      "牛肉\n",
      "<class 'str'> \n",
      "-------------------\n"
     ]
    }
   ],
   "execution_count": 19
  }
 ],
 "metadata": {
  "kernelspec": {
   "display_name": "Python 3",
   "language": "python",
   "name": "python3"
  },
  "language_info": {
   "codemirror_mode": {
    "name": "ipython",
    "version": 2
   },
   "file_extension": ".py",
   "mimetype": "text/x-python",
   "name": "python",
   "nbconvert_exporter": "python",
   "pygments_lexer": "ipython2",
   "version": "2.7.6"
  }
 },
 "nbformat": 4,
 "nbformat_minor": 5
}
